{
 "cells": [
  {
   "cell_type": "markdown",
   "metadata": {},
   "source": [
    "# Hello World!"
   ]
  },
  {
   "cell_type": "code",
   "execution_count": 2,
   "metadata": {},
   "outputs": [
    {
     "name": "stdout",
     "output_type": "stream",
     "text": [
      "12345\n"
     ]
    }
   ],
   "source": [
    "print(12345)"
   ]
  },
  {
   "cell_type": "code",
   "execution_count": 4,
   "metadata": {},
   "outputs": [
    {
     "name": "stdout",
     "output_type": "stream",
     "text": [
      "['karachi', 'lahore', 'Islamabad']\n"
     ]
    }
   ],
   "source": [
    "cities = [\"karachi\", \"lahore\", \"Islamabad\"]\n",
    "print (cities)"
   ]
  },
  {
   "cell_type": "code",
   "execution_count": 8,
   "metadata": {},
   "outputs": [
    {
     "name": "stdout",
     "output_type": "stream",
     "text": [
      "['karachi', 'lahore', 'Islamabad']\n",
      "['karachi', 'lahore', 'Islamabad', 'Jehlum']\n"
     ]
    }
   ],
   "source": [
    "cities = [\"karachi\", \"lahore\", \"Islamabad\"]\n",
    "print (cities)\n",
    "cities.append(\"Jehlum\")\n",
    "print(cities)"
   ]
  },
  {
   "cell_type": "code",
   "execution_count": 9,
   "metadata": {},
   "outputs": [
    {
     "name": "stdout",
     "output_type": "stream",
     "text": [
      "(1, 2, 3)\n"
     ]
    }
   ],
   "source": [
    "a = 1,2,3\n",
    "print(a)"
   ]
  },
  {
   "cell_type": "code",
   "execution_count": 16,
   "metadata": {
    "scrolled": true
   },
   "outputs": [
    {
     "ename": "NameError",
     "evalue": "name 'b' is not defined",
     "output_type": "error",
     "traceback": [
      "\u001b[1;31m---------------------------------------------------------------------------\u001b[0m",
      "\u001b[1;31mNameError\u001b[0m                                 Traceback (most recent call last)",
      "\u001b[1;32m<ipython-input-16-f35c2b505d26>\u001b[0m in \u001b[0;36m<module>\u001b[1;34m()\u001b[0m\n\u001b[0;32m      1\u001b[0m \u001b[0mx\u001b[0m \u001b[1;33m,\u001b[0m \u001b[0my\u001b[0m \u001b[1;33m,\u001b[0m \u001b[0mz\u001b[0m \u001b[1;33m=\u001b[0m \u001b[0ma\u001b[0m\u001b[1;33m\u001b[0m\u001b[0m\n\u001b[1;32m----> 2\u001b[1;33m \u001b[0mprint\u001b[0m \u001b[1;33m(\u001b[0m\u001b[0mb\u001b[0m\u001b[1;33m)\u001b[0m\u001b[1;33m\u001b[0m\u001b[0m\n\u001b[0m",
      "\u001b[1;31mNameError\u001b[0m: name 'b' is not defined"
     ]
    }
   ],
   "source": [
    "x , y , z = a\n",
    "print (b)"
   ]
  },
  {
   "cell_type": "markdown",
   "metadata": {},
   "source": [
    "# For Loop"
   ]
  },
  {
   "cell_type": "code",
   "execution_count": 2,
   "metadata": {},
   "outputs": [],
   "source": [
    "students = [\"ali\", \"huziafa\",\"taha\",\"manzoor\"] "
   ]
  },
  {
   "cell_type": "code",
   "execution_count": 5,
   "metadata": {},
   "outputs": [
    {
     "name": "stdout",
     "output_type": "stream",
     "text": [
      "ali\n",
      "huziafa\n",
      "taha\n",
      "manzoor\n"
     ]
    }
   ],
   "source": [
    "for student in students:\n",
    "    print (student)"
   ]
  },
  {
   "cell_type": "code",
   "execution_count": 9,
   "metadata": {},
   "outputs": [],
   "source": [
    "students = [\"ali\", \"huzaifa\",\"taha\",\"manzoor\"]"
   ]
  },
  {
   "cell_type": "code",
   "execution_count": 10,
   "metadata": {},
   "outputs": [
    {
     "name": "stdout",
     "output_type": "stream",
     "text": [
      "ali andar ajao\n",
      "huzaifa bahar jao\n",
      "taha andar ajao\n",
      "manzoor andar ajao\n"
     ]
    }
   ],
   "source": [
    "for student in students:\n",
    "    if student == \"huzaifa\":\n",
    "        print(f'{student} bahar jao')\n",
    "    else:\n",
    "        print(f'{student} andar ajao')"
   ]
  },
  {
   "cell_type": "code",
   "execution_count": null,
   "metadata": {},
   "outputs": [],
   "source": [
    "for a in \"Huziafa\":\n",
    "    print(a, end = \" \")"
   ]
  },
  {
   "cell_type": "code",
   "execution_count": null,
   "metadata": {},
   "outputs": [],
   "source": [
    "for num in range(10):\n",
    "    print (num, end = \"\")"
   ]
  },
  {
   "cell_type": "code",
   "execution_count": 13,
   "metadata": {},
   "outputs": [
    {
     "name": "stdout",
     "output_type": "stream",
     "text": [
      "Enter table number3\n",
      "3 X 1 = 3\n",
      "3 X 2 = 6\n",
      "3 X 3 = 9\n",
      "3 X 4 = 12\n",
      "3 X 5 = 15\n",
      "3 X 6 = 18\n",
      "3 X 7 = 21\n",
      "3 X 8 = 24\n",
      "3 X 9 = 27\n"
     ]
    }
   ],
   "source": [
    "tnum = int(input(\"Enter table number\"))\n",
    "for num in range (1,10):\n",
    "    print(f'{tnum} X {num} = {num * tnum}')"
   ]
  },
  {
   "cell_type": "code",
   "execution_count": 15,
   "metadata": {},
   "outputs": [
    {
     "name": "stdout",
     "output_type": "stream",
     "text": [
      "Enter table number2\n",
      "2 X 1 = 2\n",
      "2 X 2 = 22\n",
      "2 X 3 = 222\n",
      "2 X 4 = 2222\n",
      "2 X 5 = 22222\n",
      "2 X 6 = 222222\n",
      "2 X 7 = 2222222\n",
      "2 X 8 = 22222222\n",
      "2 X 9 = 222222222\n"
     ]
    }
   ],
   "source": [
    "tnum = input(\"Enter table number\")\n",
    "# if we dont use int the input will not be \n",
    "# converted into integer , default input type is always string\n",
    "\n",
    "for num in range (1,10):\n",
    "    print(f'{tnum} X {num} = {num * tnum}')"
   ]
  },
  {
   "cell_type": "markdown",
   "metadata": {},
   "source": [
    "# Step (skipping) parameter in for loop "
   ]
  },
  {
   "cell_type": "code",
   "execution_count": 22,
   "metadata": {},
   "outputs": [
    {
     "name": "stdout",
     "output_type": "stream",
     "text": [
      "0 2 4 6 8 10 12 14 16 18 20 22 24 26 28 "
     ]
    }
   ],
   "source": [
    "for num in range (0,30,2): #printing even numbers using steps \n",
    "    print (num ,end = \" \")"
   ]
  },
  {
   "cell_type": "code",
   "execution_count": 23,
   "metadata": {},
   "outputs": [
    {
     "name": "stdout",
     "output_type": "stream",
     "text": [
      "1 3 5 7 9 11 13 15 17 19 21 23 25 27 29 "
     ]
    }
   ],
   "source": [
    "for num in range (1,30,2): #printing odd numbers using steps \n",
    "    print (num ,end = \" \")"
   ]
  },
  {
   "cell_type": "code",
   "execution_count": 29,
   "metadata": {},
   "outputs": [
    {
     "name": "stdout",
     "output_type": "stream",
     "text": [
      "Enter table number2\n"
     ]
    }
   ],
   "source": [
    "tnum = int(input(\"Enter table number\"))\n",
    "for num in range (1,10):\n",
    "    if num == 0 :\n",
    "        print(f'{tnum} X {num} = {num * tnum}')\n",
    "    "
   ]
  },
  {
   "cell_type": "code",
   "execution_count": 39,
   "metadata": {},
   "outputs": [],
   "source": [
    "friends = [\"ali\",\"rameez\", \"shahnawaz\" ,\"amir\",\"ashfaq\"]\n",
    "bfrnds = []"
   ]
  },
  {
   "cell_type": "code",
   "execution_count": 40,
   "metadata": {},
   "outputs": [
    {
     "name": "stdout",
     "output_type": "stream",
     "text": [
      "['ali', 'amir', 'ashfaq']\n"
     ]
    }
   ],
   "source": [
    "for bf in friends:\n",
    "    if bf.startswith(\"a\"):\n",
    "        bfrnds.append(bf)\n",
    "print(bfrnds)"
   ]
  },
  {
   "cell_type": "code",
   "execution_count": 1,
   "metadata": {},
   "outputs": [],
   "source": [
    "# friends = [\"ali\",\"rameez\", \"shahnawaz\" ,\"amir\",\"ashfaq\"]\n",
    "bfrnds = []"
   ]
  },
  {
   "cell_type": "code",
   "execution_count": 3,
   "metadata": {},
   "outputs": [
    {
     "name": "stdout",
     "output_type": "stream",
     "text": [
      "Enter friends namets\n",
      "Enter friends nameali\n",
      "Yes its the good name\n"
     ]
    }
   ],
   "source": [
    "for chk in range (10):\n",
    "    chk = input(\"Enter friends name\")\n",
    "    if chk.startswith(\"a\"):\n",
    "        print(\"Yes its the good name\")\n",
    "        bfrnds.append(chk)\n",
    "        continue\n",
    "    "
   ]
  },
  {
   "cell_type": "code",
   "execution_count": 14,
   "metadata": {},
   "outputs": [
    {
     "name": "stdout",
     "output_type": "stream",
     "text": [
      "['ali']\n"
     ]
    }
   ],
   "source": [
    "print(bfrnds)"
   ]
  },
  {
   "cell_type": "markdown",
   "metadata": {},
   "source": [
    "# nested for loop"
   ]
  },
  {
   "cell_type": "code",
   "execution_count": 15,
   "metadata": {},
   "outputs": [
    {
     "name": "stdout",
     "output_type": "stream",
     "text": [
      "1 h\n",
      "1 u\n",
      "1 z\n",
      "1 a\n",
      "1 i\n",
      "1 f\n",
      "1 a\n",
      "2 h\n",
      "2 u\n",
      "2 z\n",
      "2 a\n",
      "2 i\n",
      "2 f\n",
      "2 a\n",
      "3 h\n",
      "3 u\n",
      "3 z\n",
      "3 a\n",
      "3 i\n",
      "3 f\n",
      "3 a\n"
     ]
    }
   ],
   "source": [
    "for a in [1,2,3]: \n",
    "    for b in \"huzaifa\":\n",
    "        print (a,b,)"
   ]
  },
  {
   "cell_type": "code",
   "execution_count": 27,
   "metadata": {},
   "outputs": [
    {
     "name": "stdout",
     "output_type": "stream",
     "text": [
      "---------\n",
      "1 x 1 = 1\n",
      "1 x 2 = 2\n",
      "1 x 3 = 3\n",
      "1 x 4 = 4\n",
      "1 x 5 = 5\n",
      "1 x 6 = 6\n",
      "1 x 7 = 7\n",
      "1 x 8 = 8\n",
      "1 x 9 = 9\n",
      "1 x 10 = 10\n",
      "---------\n",
      "2 x 1 = 2\n",
      "2 x 2 = 4\n",
      "2 x 3 = 6\n",
      "2 x 4 = 8\n",
      "2 x 5 = 10\n",
      "2 x 6 = 12\n",
      "2 x 7 = 14\n",
      "2 x 8 = 16\n",
      "2 x 9 = 18\n",
      "2 x 10 = 20\n",
      "---------\n",
      "3 x 1 = 3\n",
      "3 x 2 = 6\n",
      "3 x 3 = 9\n",
      "3 x 4 = 12\n",
      "3 x 5 = 15\n",
      "3 x 6 = 18\n",
      "3 x 7 = 21\n",
      "3 x 8 = 24\n",
      "3 x 9 = 27\n",
      "3 x 10 = 30\n",
      "---------\n",
      "4 x 1 = 4\n",
      "4 x 2 = 8\n",
      "4 x 3 = 12\n",
      "4 x 4 = 16\n",
      "4 x 5 = 20\n",
      "4 x 6 = 24\n",
      "4 x 7 = 28\n",
      "4 x 8 = 32\n",
      "4 x 9 = 36\n",
      "4 x 10 = 40\n"
     ]
    }
   ],
   "source": [
    "for a in range(1,5):\n",
    "    print(\"---------\")\n",
    "    for b in range(1,11):\n",
    "        print(f'{a} x {b} = {a*b}')"
   ]
  },
  {
   "cell_type": "markdown",
   "metadata": {},
   "source": [
    "# list comprehension"
   ]
  },
  {
   "cell_type": "code",
   "execution_count": 28,
   "metadata": {},
   "outputs": [
    {
     "data": {
      "text/plain": [
       "[1, 4, 9, 16, 25, 36, 49, 64, 81]"
      ]
     },
     "execution_count": 28,
     "metadata": {},
     "output_type": "execute_result"
    }
   ],
   "source": [
    "[num**2 for num in range (1,10)]"
   ]
  },
  {
   "cell_type": "code",
   "execution_count": 33,
   "metadata": {},
   "outputs": [
    {
     "data": {
      "text/plain": [
       "[36, 49, 64, 81]"
      ]
     },
     "execution_count": 33,
     "metadata": {},
     "output_type": "execute_result"
    }
   ],
   "source": [
    "[num**2 for num in range (1,10) if num > 5]"
   ]
  },
  {
   "cell_type": "code",
   "execution_count": null,
   "metadata": {},
   "outputs": [],
   "source": []
  }
 ],
 "metadata": {
  "kernelspec": {
   "display_name": "Python 3",
   "language": "python",
   "name": "python3"
  },
  "language_info": {
   "codemirror_mode": {
    "name": "ipython",
    "version": 3
   },
   "file_extension": ".py",
   "mimetype": "text/x-python",
   "name": "python",
   "nbconvert_exporter": "python",
   "pygments_lexer": "ipython3",
   "version": "3.6.4"
  }
 },
 "nbformat": 4,
 "nbformat_minor": 2
}
