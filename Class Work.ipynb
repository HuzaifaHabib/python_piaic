{
 "cells": [
  {
   "cell_type": "markdown",
   "metadata": {},
   "source": [
    "# Try Catch - Exception Handeling\n"
   ]
  },
  {
   "cell_type": "code",
   "execution_count": 9,
   "metadata": {},
   "outputs": [
    {
     "name": "stdout",
     "output_type": "stream",
     "text": [
      "Enter a number2\n",
      "Enter a number2\n",
      "Ye Galat Index hai\n"
     ]
    }
   ],
   "source": [
    "a = int(input(\"Enter a number\")) #initail Error Catching\n",
    "b = int(input(\"Enter a number\"))\n",
    "d = []\n",
    "\n",
    "try:\n",
    "    c = a/b\n",
    "    e = d[0]\n",
    "    \n",
    "except ZeroDivisionError:\n",
    "    print(\"Zero Se divide nahi karte\")\n",
    "    \n",
    "except IndexError:\n",
    "    print(\"Ye Galat Index hai\")\n",
    "    \n",
    "else:\n",
    "    print(c)"
   ]
  },
  {
   "cell_type": "code",
   "execution_count": 2,
   "metadata": {},
   "outputs": [
    {
     "name": "stdout",
     "output_type": "stream",
     "text": [
      "Enter a number1\n",
      "Enter a number0\n",
      "Kch Error Aya hai \n"
     ]
    }
   ],
   "source": [
    "d = [2,3,4]\n",
    "\n",
    "try:\n",
    "    a = int(input(\"Enter a number\"))\n",
    "    b = int(input(\"Enter a number\"))\n",
    "    c = a/b\n",
    "    e = d[4]\n",
    "    \n",
    "except:\n",
    "    print(\"Kch Error Aya hai \")\n",
    "    \n",
    "else:\n",
    "    print(c)\n",
    "    print(e)"
   ]
  },
  {
   "cell_type": "code",
   "execution_count": 3,
   "metadata": {},
   "outputs": [],
   "source": [
    "# sirf except likh kar handling karne se error ka pata nahi chalta , error pata karne k liye "
   ]
  },
  {
   "cell_type": "code",
   "execution_count": null,
   "metadata": {},
   "outputs": [],
   "source": []
  },
  {
   "cell_type": "code",
   "execution_count": null,
   "metadata": {},
   "outputs": [],
   "source": []
  },
  {
   "cell_type": "code",
   "execution_count": null,
   "metadata": {},
   "outputs": [],
   "source": []
  },
  {
   "cell_type": "code",
   "execution_count": null,
   "metadata": {},
   "outputs": [],
   "source": []
  },
  {
   "cell_type": "code",
   "execution_count": 31,
   "metadata": {},
   "outputs": [],
   "source": [
    "class student():\n",
    "    def __init__(self,name,age):\n",
    "        if age > 80 or age <16:\n",
    "            raise StudentAgeException(\"Age can not be greater then 80 and less than 16 \")\n",
    "        self.name = name\n",
    "        self.age = age\n",
    "        \n",
    "class StudentAgeException(Exception):\n",
    "    pass\n"
   ]
  },
  {
   "cell_type": "code",
   "execution_count": 32,
   "metadata": {},
   "outputs": [
    {
     "name": "stdout",
     "output_type": "stream",
     "text": [
      "Enter Studentm Age23\n",
      "23\n"
     ]
    }
   ],
   "source": [
    "age = int(input(\"Enter Studentm Age\"))\n",
    "st  = student(\"Hello\",age)\n",
    "print(st.age)"
   ]
  },
  {
   "cell_type": "code",
   "execution_count": 33,
   "metadata": {},
   "outputs": [
    {
     "ename": "SyntaxError",
     "evalue": "unexpected EOF while parsing (<ipython-input-33-2811bbfd3e9f>, line 3)",
     "output_type": "error",
     "traceback": [
      "\u001b[1;36m  File \u001b[1;32m\"<ipython-input-33-2811bbfd3e9f>\"\u001b[1;36m, line \u001b[1;32m3\u001b[0m\n\u001b[1;33m    print(st.age)\u001b[0m\n\u001b[1;37m                 ^\u001b[0m\n\u001b[1;31mSyntaxError\u001b[0m\u001b[1;31m:\u001b[0m unexpected EOF while parsing\n"
     ]
    }
   ],
   "source": [
    "try:\n",
    "    age = int(input(\"Hello\",age))\n",
    "    print(st.age)"
   ]
  },
  {
   "cell_type": "code",
   "execution_count": 27,
   "metadata": {},
   "outputs": [],
   "source": [
    "x = \"New file k andar ka content \"\n",
    "\n",
    "with open(\"read.txt\",\"w\") as file_object:\n",
    "    file_object.write(x)    "
   ]
  },
  {
   "cell_type": "code",
   "execution_count": 28,
   "metadata": {},
   "outputs": [],
   "source": [
    "x = \"New file k andar ka content\"    #Writing file \n",
    "\n",
    "with open(\"read.txt\",\"w\") as file_object:\n",
    "    file_object.write(x)\n",
    "    file_object.write(x)\n",
    "    file_object.write(x)"
   ]
  },
  {
   "cell_type": "code",
   "execution_count": 29,
   "metadata": {},
   "outputs": [
    {
     "name": "stdout",
     "output_type": "stream",
     "text": [
      "New file k andar ka contentNew file k andar ka contentNew file k andar ka content\n"
     ]
    }
   ],
   "source": [
    "with open(\"read.txt\",\"r\") as file_object:\n",
    "    contents = file_object.read()\n",
    "print(contents)"
   ]
  },
  {
   "cell_type": "code",
   "execution_count": null,
   "metadata": {},
   "outputs": [],
   "source": []
  },
  {
   "cell_type": "code",
   "execution_count": null,
   "metadata": {},
   "outputs": [],
   "source": []
  },
  {
   "cell_type": "markdown",
   "metadata": {},
   "source": [
    "# Import Methods"
   ]
  },
  {
   "cell_type": "code",
   "execution_count": 1,
   "metadata": {},
   "outputs": [
    {
     "data": {
      "text/plain": [
       "datetime.datetime(2019, 7, 29, 11, 33, 40, 113659)"
      ]
     },
     "execution_count": 1,
     "metadata": {},
     "output_type": "execute_result"
    }
   ],
   "source": [
    "import datetime as d\n",
    "d.datetime.now()"
   ]
  },
  {
   "cell_type": "code",
   "execution_count": null,
   "metadata": {},
   "outputs": [],
   "source": [
    "h"
   ]
  }
 ],
 "metadata": {
  "kernelspec": {
   "display_name": "Python 3",
   "language": "python",
   "name": "python3"
  },
  "language_info": {
   "codemirror_mode": {
    "name": "ipython",
    "version": 3
   },
   "file_extension": ".py",
   "mimetype": "text/x-python",
   "name": "python",
   "nbconvert_exporter": "python",
   "pygments_lexer": "ipython3",
   "version": "3.6.4"
  }
 },
 "nbformat": 4,
 "nbformat_minor": 2
}
