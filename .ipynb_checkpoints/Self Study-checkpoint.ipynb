{
 "cells": [
  {
   "cell_type": "markdown",
   "metadata": {},
   "source": [
    "# practice Dictonaries"
   ]
  },
  {
   "cell_type": "code",
   "execution_count": 31,
   "metadata": {},
   "outputs": [],
   "source": [
    "#Defining a dictonary \n",
    "customer_004 = {\n",
    "    \"name\": \"Huzaifa\",\n",
    "    \"Company\": \"TechnoZone\",\n",
    "    \"code\": \"004\",\n",
    "}\n"
   ]
  },
  {
   "cell_type": "code",
   "execution_count": 32,
   "metadata": {},
   "outputs": [
    {
     "name": "stdout",
     "output_type": "stream",
     "text": [
      "Huzaifa\n"
     ]
    }
   ],
   "source": [
    "#Printing Dictonary values\n",
    "#custname = customer_004[\"name\"]\n",
    "print(customer_004[\"name\"])"
   ]
  },
  {
   "cell_type": "code",
   "execution_count": 33,
   "metadata": {},
   "outputs": [
    {
     "data": {
      "text/plain": [
       "'Habib'"
      ]
     },
     "execution_count": 33,
     "metadata": {},
     "output_type": "execute_result"
    }
   ],
   "source": [
    "#Adding new values and printing to check\n",
    "customer_004[\"lastname\"] = \"Habib\"\n",
    "customer_004[\"lastname\"]"
   ]
  },
  {
   "cell_type": "code",
   "execution_count": 34,
   "metadata": {},
   "outputs": [
    {
     "name": "stdout",
     "output_type": "stream",
     "text": [
      "{'name': 'Huzaifa', 'Company': 'TechnoZone', 'code': '004'}\n"
     ]
    }
   ],
   "source": [
    "#Removing values from dictonaries and printing to check\n",
    "del customer_004[\"lastname\"]\n",
    "print(customer_004)"
   ]
  },
  {
   "cell_type": "code",
   "execution_count": 37,
   "metadata": {},
   "outputs": [
    {
     "name": "stdout",
     "output_type": "stream",
     "text": [
      "Huzaifa\n",
      "TechnoZone\n",
      "004\n"
     ]
    }
   ],
   "source": [
    "#looping in Dictonary for printing all values\n",
    "for val_prnt in customer_004.values():\n",
    "    print(val_prnt)"
   ]
  },
  {
   "cell_type": "code",
   "execution_count": 39,
   "metadata": {},
   "outputs": [
    {
     "name": "stdout",
     "output_type": "stream",
     "text": [
      "name\n",
      "Company\n",
      "code\n"
     ]
    }
   ],
   "source": [
    "#looping in Dictonary for printing all keys\n",
    "for key_prnt in customer_004.keys():\n",
    "    print(key_prnt)"
   ]
  },
  {
   "cell_type": "code",
   "execution_count": 41,
   "metadata": {},
   "outputs": [
    {
     "name": "stdout",
     "output_type": "stream",
     "text": [
      "('name', 'Huzaifa')\n",
      "('Company', 'TechnoZone')\n",
      "('code', '004')\n"
     ]
    }
   ],
   "source": [
    "#looping in Dictonary for printing all keys and values\n",
    "for key_item in customer_004.items():\n",
    "    print(key_item)"
   ]
  },
  {
   "cell_type": "code",
   "execution_count": 43,
   "metadata": {},
   "outputs": [
    {
     "name": "stdout",
     "output_type": "stream",
     "text": [
      "name is Huzaifa\n",
      "Company is TechnoZone\n",
      "code is 004\n"
     ]
    }
   ],
   "source": [
    "#looping in Dictonary for printing all keys and values with seperate variables\n",
    "for each_key,each_value, in customer_004.items():\n",
    "    print(each_key +\" is \"+ each_value )"
   ]
  },
  {
   "cell_type": "markdown",
   "metadata": {},
   "source": [
    "# List of dictonaries"
   ]
  },
  {
   "cell_type": "code",
   "execution_count": 2,
   "metadata": {},
   "outputs": [],
   "source": [
    "#Dictonaries in a list\n",
    "company_employees = [\n",
    "    {\n",
    "        \"emp_code\" : 0,\n",
    "        \"emp_name\" : \"Huzaifa Habib\",\n",
    "        \"emp_desig\" : \"CEO\",\n",
    "    },\n",
    "    {\n",
    "        \"emp_code\" : 1,\n",
    "        \"emp_name\" : \"Ozair\",\n",
    "        \"emp_desig\" : \"Manager\",\n",
    "    },\n",
    "    {\n",
    "        \"emp_code\" : 2,\n",
    "        \"emp_name\" : \"Ali\",\n",
    "        \"emp_desig\" : \"Technician\",\n",
    "    }\n",
    "]"
   ]
  },
  {
   "cell_type": "code",
   "execution_count": 3,
   "metadata": {},
   "outputs": [
    {
     "name": "stdout",
     "output_type": "stream",
     "text": [
      "{'emp_code': 0, 'emp_name': 'Huzaifa Habib', 'emp_desig': 'CEO'}\n"
     ]
    }
   ],
   "source": [
    "dict = company_employees[0] #Taking out dictonary from list of dictonaries\n",
    "print(dict)"
   ]
  },
  {
   "cell_type": "code",
   "execution_count": 4,
   "metadata": {},
   "outputs": [
    {
     "name": "stdout",
     "output_type": "stream",
     "text": [
      "Huzaifa Habib\n"
     ]
    }
   ],
   "source": [
    "print(dict[\"emp_name\"])#printing key in that dictonary"
   ]
  },
  {
   "cell_type": "code",
   "execution_count": 5,
   "metadata": {},
   "outputs": [
    {
     "name": "stdout",
     "output_type": "stream",
     "text": [
      "{'emp_code': 0, 'emp_name': 'Huzaifa Habib', 'emp_desig': 'CEO'}\n",
      "{'emp_code': 1, 'emp_name': 'Ozair', 'emp_desig': 'Manager'}\n",
      "{'emp_code': 2, 'emp_name': 'Ali', 'emp_desig': 'Technician'}\n"
     ]
    }
   ],
   "source": [
    "for a in company_employees: #looping to print all dictonaries in the list\n",
    "    print(a)"
   ]
  },
  {
   "cell_type": "code",
   "execution_count": 6,
   "metadata": {},
   "outputs": [
    {
     "name": "stdout",
     "output_type": "stream",
     "text": [
      "3\n"
     ]
    }
   ],
   "source": [
    "print(len(company_employees)) #printing length of list using len keyword"
   ]
  },
  {
   "cell_type": "code",
   "execution_count": 7,
   "metadata": {},
   "outputs": [
    {
     "name": "stdout",
     "output_type": "stream",
     "text": [
      "{'emp_code': 0, 'emp_name': 'Huzaifa Habib', 'emp_desig': 'CEO'}\n",
      "{'emp_code': 1, 'emp_name': 'Ozair', 'emp_desig': 'Manager'}\n",
      "{'emp_code': 2, 'emp_name': 'Ali', 'emp_desig': 'Technician'}\n",
      "{'emp_code': 3, 'emp_name': 'Hero', 'emp_desig': 'Hero'}\n"
     ]
    }
   ],
   "source": [
    "new_emp = {                     #adding a dictonary\n",
    "        \"emp_code\" : 3,\n",
    "        \"emp_name\" : \"Hero\",\n",
    "        \"emp_desig\" : \"Hero\",\n",
    "}\n",
    "\n",
    "company_employees.append(new_emp)\n",
    "\n",
    "for a in company_employees: #looping to print all dictonaries in the list\n",
    "    print(a)"
   ]
  },
  {
   "cell_type": "markdown",
   "metadata": {},
   "source": [
    "# Object Oriented Programming"
   ]
  },
  {
   "cell_type": "code",
   "execution_count": null,
   "metadata": {},
   "outputs": [],
   "source": []
  },
  {
   "cell_type": "markdown",
   "metadata": {},
   "source": [
    "# Inheritance"
   ]
  },
  {
   "cell_type": "code",
   "execution_count": 90,
   "metadata": {},
   "outputs": [],
   "source": [
    "class Car():\n",
    "    def __init__(self, make, model, year):\n",
    "        self.make = make\n",
    "        self.model = model\n",
    "        self.year = year\n",
    "        self.odometer_reading = 0\n",
    "        \n",
    "    def get_descriptive_name(self):\n",
    "        \n",
    "        long_name = str(self.year) + ' ' + self.make + ' '+ self.model\n",
    "        return long_name.title()\n",
    "    \n",
    "    def read_odometer(self):\n",
    "        print(f\"the car has travelled {self.odometer_reading} miles\")\n",
    "    \n",
    "    def update_odometer(self, mileage):\n",
    "        self.odometer_reading = mileage\n",
    "        \n",
    "    def increase_odometer(self, mileage):\n",
    "        if mileage >0:\n",
    "            self.odometer_reading +=mileage\n",
    "        else:\n",
    "            print(\"you can not rol back odometer\")\n",
    "            \n",
    "    def get_fuelTank_size(self):\n",
    "        print(\"100 litters\")\n",
    "        "
   ]
  },
  {
   "cell_type": "code",
   "execution_count": 91,
   "metadata": {},
   "outputs": [],
   "source": [
    "class Battery():\n",
    "    def __init__(self, manufecturer, watt, date):\n",
    "        self.manufecturer = manufecturer\n",
    "        self.watt = watt\n",
    "        self.date = date\n",
    "        self.batterySize = 100\n",
    "        \n",
    "    def getBatterySize(self):\n",
    "        print(f\"The Battery Size of eCar is {self.batterySize}\")\n",
    "    \n",
    "    def setBatterySize(self, battery):\n",
    "        self.batterySize = battery\n",
    "        "
   ]
  },
  {
   "cell_type": "code",
   "execution_count": 92,
   "metadata": {},
   "outputs": [],
   "source": [
    "class ElectricCar(Car):\n",
    "    def __init__(self, make, model, year):\n",
    "        super().__init__(make, model, year) \n",
    "        self.battery = Battery(\"Osaka\",  200, 2019)\n",
    "        \n",
    "    def get_fuelTank_size(self):\n",
    "        print(\" Electric Car Does'nt have a fuel tank\")"
   ]
  },
  {
   "cell_type": "code",
   "execution_count": 93,
   "metadata": {},
   "outputs": [],
   "source": [
    "eCar = ElectricCar(\"toyota\", \"corolla\", 1998) ## define object"
   ]
  },
  {
   "cell_type": "code",
   "execution_count": 94,
   "metadata": {},
   "outputs": [
    {
     "ename": "AttributeError",
     "evalue": "'ElectricCar' object has no attribute 'getBatterySize'",
     "output_type": "error",
     "traceback": [
      "\u001b[1;31m---------------------------------------------------------------------------\u001b[0m",
      "\u001b[1;31mAttributeError\u001b[0m                            Traceback (most recent call last)",
      "\u001b[1;32m<ipython-input-94-3435f410b289>\u001b[0m in \u001b[0;36m<module>\u001b[1;34m()\u001b[0m\n\u001b[1;32m----> 1\u001b[1;33m \u001b[0meCar\u001b[0m\u001b[1;33m.\u001b[0m\u001b[0mgetBatterySize\u001b[0m\u001b[1;33m(\u001b[0m\u001b[1;33m)\u001b[0m\u001b[1;33m\u001b[0m\u001b[0m\n\u001b[0m",
      "\u001b[1;31mAttributeError\u001b[0m: 'ElectricCar' object has no attribute 'getBatterySize'"
     ]
    }
   ],
   "source": [
    "eCar.getBatterySize()"
   ]
  },
  {
   "cell_type": "code",
   "execution_count": 65,
   "metadata": {},
   "outputs": [
    {
     "name": "stdout",
     "output_type": "stream",
     "text": [
      "the car has travelled 0 miles\n"
     ]
    }
   ],
   "source": [
    "eCar.read_odometer()"
   ]
  },
  {
   "cell_type": "code",
   "execution_count": 66,
   "metadata": {},
   "outputs": [
    {
     "data": {
      "text/plain": [
       "'1998 Toyota Corolla'"
      ]
     },
     "execution_count": 66,
     "metadata": {},
     "output_type": "execute_result"
    }
   ],
   "source": [
    "eCar.get_descriptive_name()"
   ]
  },
  {
   "cell_type": "code",
   "execution_count": 67,
   "metadata": {},
   "outputs": [],
   "source": [
    "eCar.increase_odometer(15)"
   ]
  },
  {
   "cell_type": "code",
   "execution_count": 68,
   "metadata": {},
   "outputs": [
    {
     "name": "stdout",
     "output_type": "stream",
     "text": [
      "the car has travelled 15 miles\n"
     ]
    }
   ],
   "source": [
    "eCar.read_odometer()"
   ]
  },
  {
   "cell_type": "code",
   "execution_count": 49,
   "metadata": {},
   "outputs": [
    {
     "name": "stdout",
     "output_type": "stream",
     "text": [
      "The Battery Size of eCar is 70\n"
     ]
    }
   ],
   "source": [
    "eCar.getBatterySize()"
   ]
  },
  {
   "cell_type": "code",
   "execution_count": 36,
   "metadata": {},
   "outputs": [],
   "source": [
    "eCar.setBatterySize(100)"
   ]
  },
  {
   "cell_type": "code",
   "execution_count": 53,
   "metadata": {},
   "outputs": [
    {
     "name": "stdout",
     "output_type": "stream",
     "text": [
      " Electric Car Does'nt have a fuel tank\n"
     ]
    }
   ],
   "source": [
    "eCar.get_fuelTank_size()"
   ]
  },
  {
   "cell_type": "markdown",
   "metadata": {},
   "source": [
    "# EXERCISE"
   ]
  },
  {
   "cell_type": "code",
   "execution_count": 3,
   "metadata": {},
   "outputs": [],
   "source": [
    "class Restaurant():\n",
    "    def __init__ (self, restaurantName, cuisineType):\n",
    "        self.restaurantName = restaurantName\n",
    "        self.cuisineType = cuisineType\n",
    "        self.Numberserved = 10\n",
    "    \n",
    "    def describe_restaurant(self):\n",
    "        print(f\"The name of the restaurant is {self.restaurantName}\")\n",
    "        print(f\"The cuisine type is {self.cuisineType}\")\n",
    "        \n",
    "    def openRestaurant(self):\n",
    "        print(f\"{self.restaurantName} is open today\")\n",
    "    \n",
    "    def set_Numberserved(self,numbers):\n",
    "        self.Number_served  = numbers\n",
    "        \n",
    "        "
   ]
  },
  {
   "cell_type": "code",
   "execution_count": 30,
   "metadata": {},
   "outputs": [],
   "source": [
    "res1 = Restaurant (\"ChinaTown\", \"chinese\")\n",
    "res2 = Restaurant(\"A.R Cake Studio\", \"Bakery\")\n",
    "res3 = Restaurant(\"KFC\", \"American\")\n",
    "res4 = Restaurant(\"quettawal\",\"Pathan Continental\")"
   ]
  },
  {
   "cell_type": "code",
   "execution_count": 31,
   "metadata": {},
   "outputs": [
    {
     "name": "stdout",
     "output_type": "stream",
     "text": [
      "The name of the restaurant is KFC\n",
      "The cuisine type is American\n"
     ]
    }
   ],
   "source": [
    "res3.describe_restaurant()"
   ]
  },
  {
   "cell_type": "code",
   "execution_count": 32,
   "metadata": {},
   "outputs": [
    {
     "name": "stdout",
     "output_type": "stream",
     "text": [
      "KFC is open today\n"
     ]
    }
   ],
   "source": [
    "res3.openRestaurant()"
   ]
  },
  {
   "cell_type": "code",
   "execution_count": 33,
   "metadata": {},
   "outputs": [
    {
     "data": {
      "text/plain": [
       "10"
      ]
     },
     "execution_count": 33,
     "metadata": {},
     "output_type": "execute_result"
    }
   ],
   "source": [
    "res2.Numberserved"
   ]
  },
  {
   "cell_type": "raw",
   "metadata": {},
   "source": [
    "res2.set_Numberserved(20)"
   ]
  },
  {
   "cell_type": "code",
   "execution_count": 34,
   "metadata": {},
   "outputs": [
    {
     "data": {
      "text/plain": [
       "10"
      ]
     },
     "execution_count": 34,
     "metadata": {},
     "output_type": "execute_result"
    }
   ],
   "source": [
    "res2.Numberserved"
   ]
  },
  {
   "cell_type": "markdown",
   "metadata": {},
   "source": [
    "# Home Exercise (9.1 - 9.3)"
   ]
  },
  {
   "cell_type": "code",
   "execution_count": 1,
   "metadata": {},
   "outputs": [],
   "source": [
    "class Restaurant ():\n",
    "    def __init__ (self, restaurantName, cuisineType):\n",
    "        self.restaurantName = restaurantName\n",
    "        self.cuisineType = cuisineType\n",
    "    \n",
    "    def describe_restaurant (self):\n",
    "        print(f\"The Restaurant name is {self.restaurantName}\")\n",
    "        print(f\"The Restaurant type is {self.cuisineType}\")\n",
    "        \n",
    "    def open_restaurant(self):\n",
    "        print(f\"The {self.restaurantName} is Open\")\n",
    "    "
   ]
  },
  {
   "cell_type": "code",
   "execution_count": 2,
   "metadata": {},
   "outputs": [],
   "source": [
    "res1 = Restaurant(\"Food House\",\"Desi\")\n",
    "res2 = Restaurant(\"Kababjees\",\"BBQ\")\n",
    "res3 = Restaurant(\"A.R cake Studio\",\"Bakery\")"
   ]
  },
  {
   "cell_type": "code",
   "execution_count": 3,
   "metadata": {},
   "outputs": [
    {
     "name": "stdout",
     "output_type": "stream",
     "text": [
      "The Restaurant name is Food House\n",
      "The Restaurant type is Desi\n",
      "The Restaurant name is Kababjees\n",
      "The Restaurant type is BBQ\n",
      "The Restaurant name is A.R cake Studio\n",
      "The Restaurant type is Bakery\n"
     ]
    }
   ],
   "source": [
    "res1.describe_restaurant()\n",
    "res2.describe_restaurant()\n",
    "res3.describe_restaurant()"
   ]
  },
  {
   "cell_type": "code",
   "execution_count": 4,
   "metadata": {},
   "outputs": [],
   "source": [
    "class Users():\n",
    "    def __init__ (self, firstName, lastname, dateofbirth, gender):\n",
    "        self.firstName = firstName\n",
    "        self.lastname = lastname\n",
    "        self.dateofbirth = dateofbirth\n",
    "        self.gender = gender\n",
    "    \n",
    "    def describe_user(self):\n",
    "        print(f\"Full Name: {self.firstName} {self.lastname}\")\n",
    "        print(f\"Date of birth: {self.dateofbirth}\")\n",
    "        print(f\"Gender : {self.gender}\")\n",
    "    \n",
    "    def greet_user(self):\n",
    "        print(f\"Welcome to TechnoZone Systems {self.firstName} {self.lastname}\")"
   ]
  },
  {
   "cell_type": "code",
   "execution_count": 5,
   "metadata": {},
   "outputs": [],
   "source": [
    "user1 = Users(\"Huzaifa\",\"Habib\",1994,\"Male\")"
   ]
  },
  {
   "cell_type": "code",
   "execution_count": 6,
   "metadata": {},
   "outputs": [
    {
     "name": "stdout",
     "output_type": "stream",
     "text": [
      "Full Name: Huzaifa Habib\n",
      "Date of birth: 1994\n",
      "Gender : Male\n"
     ]
    }
   ],
   "source": [
    "user1.describe_user()"
   ]
  },
  {
   "cell_type": "code",
   "execution_count": 7,
   "metadata": {},
   "outputs": [
    {
     "name": "stdout",
     "output_type": "stream",
     "text": [
      "Welcome to TechnoZone Systems Huzaifa Habib\n"
     ]
    }
   ],
   "source": [
    "user1.greet_user()"
   ]
  },
  {
   "cell_type": "code",
   "execution_count": 8,
   "metadata": {},
   "outputs": [
    {
     "data": {
      "text/plain": [
       "'Habib'"
      ]
     },
     "execution_count": 8,
     "metadata": {},
     "output_type": "execute_result"
    }
   ],
   "source": [
    "user1.lastname"
   ]
  },
  {
   "cell_type": "code",
   "execution_count": 12,
   "metadata": {},
   "outputs": [],
   "source": [
    "user1 = Users(\"Huzaifa\",\"Habib\",1994,\"Male\")\n",
    "user2 = Users(\"Aweem\",\"Rizwan\",2004,\"Male\")\n",
    "user3 = Users(\"Aniqa\",\"Rizwan\",1992,\"Female\")\n",
    "user4 = Users(\"Abiez\",\"Rizwan\",2000,\"Female\")"
   ]
  },
  {
   "cell_type": "code",
   "execution_count": 17,
   "metadata": {},
   "outputs": [
    {
     "name": "stdout",
     "output_type": "stream",
     "text": [
      "Full Name: Huzaifa Habib\n",
      "Date of birth: 1994\n",
      "Gender : Male\n",
      "Welcome to TechnoZone Systems Huzaifa Habib\n",
      "---------------------\n",
      "Full Name: Aweem Rizwan\n",
      "Date of birth: 2004\n",
      "Gender : Male\n",
      "Welcome to TechnoZone Systems Aweem Rizwan\n",
      "---------------------\n",
      "Full Name: Aniqa Rizwan\n",
      "Date of birth: 1992\n",
      "Gender : Female\n",
      "Welcome to TechnoZone Systems Aniqa Rizwan\n",
      "---------------------\n",
      "Full Name: Abiez Rizwan\n",
      "Date of birth: 2000\n",
      "Gender : Female\n",
      "Welcome to TechnoZone Systems Abiez Rizwan\n"
     ]
    }
   ],
   "source": [
    "user1.describe_user()\n",
    "user1.greet_user()\n",
    "print(\"---------------------\")\n",
    "user2.describe_user()\n",
    "user2.greet_user()\n",
    "print(\"---------------------\")\n",
    "user3.describe_user()\n",
    "user3.greet_user()\n",
    "print(\"---------------------\")\n",
    "user4.describe_user()\n",
    "user4.greet_user()"
   ]
  },
  {
   "cell_type": "markdown",
   "metadata": {},
   "source": [
    "# Exercise 9.4 - 9.5"
   ]
  },
  {
   "cell_type": "code",
   "execution_count": 57,
   "metadata": {},
   "outputs": [],
   "source": [
    "class Restaurant ():\n",
    "    def __init__ (self, restaurantName, cuisineType):\n",
    "        self.restaurantName = restaurantName\n",
    "        self.cuisineType = cuisineType\n",
    "        self.numberServed = 0\n",
    "    \n",
    "    def set_numberServed(self):\n",
    "        x = int(input(\"Enter Number of clients served\"))\n",
    "        self.numberServed = x\n",
    "        \n",
    "    def incr_numberServed(self):\n",
    "        x = int(input(\"Enter Number to increase\"))\n",
    "        self.numberServed = self.numberServed + x\n",
    "        "
   ]
  },
  {
   "cell_type": "code",
   "execution_count": 58,
   "metadata": {},
   "outputs": [],
   "source": [
    "res2 = Restaurant(\"A.R Cake Studio\", \"Bakery\")"
   ]
  },
  {
   "cell_type": "code",
   "execution_count": 52,
   "metadata": {},
   "outputs": [
    {
     "name": "stdout",
     "output_type": "stream",
     "text": [
      "Enter Number of clients served0\n",
      "0\n"
     ]
    }
   ],
   "source": [
    "res2.set_numberServed()\n",
    "ns = res2.numberServed\n",
    "print(ns)"
   ]
  },
  {
   "cell_type": "code",
   "execution_count": 66,
   "metadata": {},
   "outputs": [
    {
     "name": "stdout",
     "output_type": "stream",
     "text": [
      "Enter Number to increase-100\n",
      "0\n"
     ]
    }
   ],
   "source": [
    "res2.incr_numberServed()\n",
    "ns = res2.numberServed\n",
    "print(ns)"
   ]
  },
  {
   "cell_type": "code",
   "execution_count": 8,
   "metadata": {},
   "outputs": [],
   "source": [
    "class Users():\n",
    "    def __init__ (self, firstName, lastname, dateofbirth, gender):\n",
    "        self.firstName = firstName\n",
    "        self.lastname = lastname\n",
    "        self.dateofbirth = dateofbirth\n",
    "        self.gender = gender\n",
    "        self.loginattempts = 0\n",
    "    \n",
    "    def incr_loginattempts(self):\n",
    "        self.loginattempts += 1\n",
    "        \n",
    "    def reset_loginattempts(self):\n",
    "        self.loginattempts = 0"
   ]
  },
  {
   "cell_type": "code",
   "execution_count": 9,
   "metadata": {},
   "outputs": [],
   "source": [
    "user1 = Users(\"Huzaifa\",\"Habib\",1994,\"Male\")"
   ]
  },
  {
   "cell_type": "code",
   "execution_count": 14,
   "metadata": {},
   "outputs": [
    {
     "data": {
      "text/plain": [
       "3"
      ]
     },
     "execution_count": 14,
     "metadata": {},
     "output_type": "execute_result"
    }
   ],
   "source": [
    "user1.incr_loginattempts()\n",
    "user1.loginattempts"
   ]
  },
  {
   "cell_type": "code",
   "execution_count": 11,
   "metadata": {},
   "outputs": [
    {
     "data": {
      "text/plain": [
       "0"
      ]
     },
     "execution_count": 11,
     "metadata": {},
     "output_type": "execute_result"
    }
   ],
   "source": [
    "user1.reset_loginattempts()\n",
    "user1.loginattempts"
   ]
  },
  {
   "cell_type": "markdown",
   "metadata": {},
   "source": [
    "# Exercise 9.6 - 9.9"
   ]
  },
  {
   "cell_type": "code",
   "execution_count": 43,
   "metadata": {},
   "outputs": [],
   "source": [
    "#9.9\n",
    "\n",
    "class Car():\n",
    "    def __init__(self, make, model, year):\n",
    "        self.make = make\n",
    "        self.model = model\n",
    "        self.year = year\n",
    "        self.odometer_reading = 0\n",
    "        \n",
    "    def get_descriptive_name(self):\n",
    "        \n",
    "        long_name = str(self.year) + ' ' + self.make + ' '+ self.model\n",
    "        return long_name.title()\n",
    "    \n",
    "    def read_odometer(self):\n",
    "        print(f\"the car has travelled {self.odometer_reading} miles\")\n",
    "    \n",
    "    def update_odometer(self, mileage):\n",
    "        self.odometer_reading = mileage\n",
    "        \n",
    "    def increase_odometer(self, mileage):\n",
    "        if mileage >0:\n",
    "            self.odometer_reading +=mileage\n",
    "        else:4\n",
    "        print(\"you can not rol back odometer\")"
   ]
  },
  {
   "cell_type": "code",
   "execution_count": 39,
   "metadata": {},
   "outputs": [],
   "source": [
    "class ElectricCar(Car):\n",
    "    def __init__(self, make, model, year):\n",
    "        super().__init__ (make, model, year)\n",
    "        self.battery_size = 40\n",
    "        self.batteryname = \"Osaka\"\n",
    "        \n",
    "    def describe_batterey(self):\n",
    "        print(f'Battery name is = {self.batteryname}')\n",
    "        print(f'Batter Size is {self.battery_size}')\n",
    "        \n",
    "    def upgrade_battery(self):\n",
    "        if self.battery_size <= 45:\n",
    "            self.battery_size = 80\n",
    "            print(\"Battery Upgraded\")\n",
    "        else:\n",
    "            print(\"Your Car's Battery is already upgraded!\")"
   ]
  },
  {
   "cell_type": "code",
   "execution_count": 40,
   "metadata": {},
   "outputs": [],
   "source": [
    "eCar = ElectricCar(\"Tesla\",\"z500\", \"2019\")"
   ]
  },
  {
   "cell_type": "code",
   "execution_count": 42,
   "metadata": {},
   "outputs": [
    {
     "name": "stdout",
     "output_type": "stream",
     "text": [
      "Your Car's Battery is already upgraded!\n"
     ]
    }
   ],
   "source": [
    "eCar.upgrade_battery()"
   ]
  },
  {
   "cell_type": "code",
   "execution_count": 44,
   "metadata": {},
   "outputs": [],
   "source": [
    "#9.6\n",
    "\n",
    "class Restaurant ():\n",
    "    def __init__ (self, restaurantName, cuisineType):\n",
    "        self.restaurantName = restaurantName\n",
    "        self.cuisineType = cuisineType\n",
    "        self.numberServed = 0\n",
    "    \n",
    "    def set_numberServed(self):\n",
    "        x = int(input(\"Enter Number of clients served\"))\n",
    "        self.numberServed = x\n",
    "        \n",
    "    def incr_numberServed(self):\n",
    "        x = int(input(\"Enter Number to increase\"))\n",
    "        self.numberServed = self.numberServed + x\n",
    "        "
   ]
  },
  {
   "cell_type": "code",
   "execution_count": 60,
   "metadata": {},
   "outputs": [],
   "source": [
    "class IcecreamStand(Restaurant):\n",
    "    def __init__(self, restaurantName, cuisineType):\n",
    "        super().__init__(restaurantName, cuisineType)\n",
    "        self.flavours = [\"Mango\",\"Vanila\",\"Chocolate\",\"Pista\",\"Kulfa\"]\n",
    "        \n",
    "    def list_flovours(self):\n",
    "        print(self.flavours)"
   ]
  },
  {
   "cell_type": "code",
   "execution_count": 61,
   "metadata": {},
   "outputs": [],
   "source": [
    "res3 = IcecreamStand(\"Iceberg\",\"Dessert\")"
   ]
  },
  {
   "cell_type": "code",
   "execution_count": 62,
   "metadata": {},
   "outputs": [
    {
     "name": "stdout",
     "output_type": "stream",
     "text": [
      "['Mango', 'Vanila', 'Chocolate', 'Pista', 'Kulfa']\n"
     ]
    }
   ],
   "source": [
    "res3.list_flovours()"
   ]
  },
  {
   "cell_type": "code",
   "execution_count": 63,
   "metadata": {},
   "outputs": [],
   "source": [
    "#9.7\n",
    "\n",
    "class Users():\n",
    "    def __init__ (self, firstName, lastname, dateofbirth, gender):\n",
    "        self.firstName = firstName\n",
    "        self.lastname = lastname\n",
    "        self.dateofbirth = dateofbirth\n",
    "        self.gender = gender\n",
    "    \n",
    "    def describe_user(self):\n",
    "        print(f\"Full Name: {self.firstName} {self.lastname}\")\n",
    "        print(f\"Date of birth: {self.dateofbirth}\")\n",
    "        print(f\"Gender : {self.gender}\")\n",
    "    \n",
    "    def greet_user(self):\n",
    "        print(f\"Welcome to TechnoZone Systems {self.firstName} {self.lastname}\")\n"
   ]
  },
  {
   "cell_type": "code",
   "execution_count": 68,
   "metadata": {},
   "outputs": [],
   "source": [
    "class admin_user(Users):\n",
    "    def __init__ (self, firstName, lastname, dateofbirth, gender):\n",
    "        super().__init__(firstName, lastname, dateofbirth, gender)\n",
    "        privilage = [\"can add post\", \"can del post\", \"can ban users\"]\n",
    "        \n",
    "    def show_privilages(self):\n",
    "        print(privilage)"
   ]
  },
  {
   "cell_type": "code",
   "execution_count": null,
   "metadata": {},
   "outputs": [],
   "source": []
  }
 ],
 "metadata": {
  "kernelspec": {
   "display_name": "Python 3",
   "language": "python",
   "name": "python3"
  },
  "language_info": {
   "codemirror_mode": {
    "name": "ipython",
    "version": 3
   },
   "file_extension": ".py",
   "mimetype": "text/x-python",
   "name": "python",
   "nbconvert_exporter": "python",
   "pygments_lexer": "ipython3",
   "version": "3.6.4"
  }
 },
 "nbformat": 4,
 "nbformat_minor": 2
}
