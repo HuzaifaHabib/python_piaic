{
 "cells": [
  {
   "cell_type": "markdown",
   "metadata": {},
   "source": [
    "## 1. Calculate Area of a Circle"
   ]
  },
  {
   "cell_type": "markdown",
   "metadata": {},
   "source": [
    "#### Write a Python program which accepts the radius of a circle from the user and compute the area.\n",
    "###### Program Console Sample Output 1:\n",
    "###### Input Radius: 0.5\n",
    "###### Area of Circle with radius 0.5 is 0.7853981634"
   ]
  },
  {
   "cell_type": "code",
   "execution_count": 2,
   "metadata": {},
   "outputs": [
    {
     "name": "stdout",
     "output_type": "stream",
     "text": [
      "enter value of radius = 0.5\n",
      "Area of circle with radius 0.5 is 0.7855\n"
     ]
    }
   ],
   "source": [
    "input_radius = float(input(\"enter value of radius = \"))\n",
    "pi = 3.142 #constant\n",
    "Area_of_circle = pi* input_radius ** 2\n",
    "print(f'Area of circle with radius {input_radius} is {Area_of_circle}')\n"
   ]
  },
  {
   "cell_type": "code",
   "execution_count": null,
   "metadata": {},
   "outputs": [],
   "source": []
  },
  {
   "cell_type": "code",
   "execution_count": null,
   "metadata": {},
   "outputs": [],
   "source": []
  },
  {
   "cell_type": "markdown",
   "metadata": {},
   "source": [
    "## 2. Check Number either positive, negative or zero"
   ]
  },
  {
   "cell_type": "markdown",
   "metadata": {},
   "source": [
    "#### Write a Python program to check if a number is positive, negative or zero\n",
    "###### Program Console Sample Output 1:\n",
    "###### Enter Number: -1\n",
    "##### Negative Number Entered\n",
    "###### Program Console Sample Output 2:\n",
    "##### Integer: 3\n",
    "##### Positive Number Entered\n",
    "###### Program Console Sample Output 3:\n",
    "##### Integer: 0\n",
    "###### Zero Entered"
   ]
  },
  {
   "cell_type": "code",
   "execution_count": 7,
   "metadata": {},
   "outputs": [
    {
     "name": "stdout",
     "output_type": "stream",
     "text": [
      "Check out weather;the number entered is negative, positive or zero = -1\n",
      "The number -1 , entered is negative. \n"
     ]
    }
   ],
   "source": [
    "input_number = int(input(\"Check out weather;the number entered is negative, positive or zero = \"))\n",
    "if input_number > 0:\n",
    "    print(f'The number {input_number} , entered is positive. ')\n",
    "if input_number < 0:\n",
    "    print(f'The number {input_number} , entered is negative. ')\n",
    "if input_number == 0:\n",
    "    print(f'The number {input_number} , entered is zero. ' )"
   ]
  },
  {
   "cell_type": "code",
   "execution_count": 6,
   "metadata": {},
   "outputs": [
    {
     "name": "stdout",
     "output_type": "stream",
     "text": [
      "Check out weather; the number entered is positive, negative or zero =3\n",
      "The number3 , positive number entered.\n"
     ]
    }
   ],
   "source": [
    "input_number = int(input(\"Check out weather; the number entered is positive, negative or zero =\"))\n",
    "if input_number > 0:\n",
    "    print(f'The number{input_number} , positive number entered.')\n",
    "if input_number < 0:\n",
    "    print(f'The number {input_number} , negative number entered.')\n",
    "if input_number == 0:\n",
    "    print(f'The number {input_number} , Zero entered.')\n",
    "    "
   ]
  },
  {
   "cell_type": "code",
   "execution_count": 10,
   "metadata": {},
   "outputs": [
    {
     "name": "stdout",
     "output_type": "stream",
     "text": [
      "Check out weather; the number entered is positive, negative or zero =0\n",
      "The number 0 , Zero entered.\n"
     ]
    }
   ],
   "source": [
    "input_number = int(input(\"Check out weather; the number entered is positive, negative or zero =\"))\n",
    "if input_number > 0:\n",
    "    print(f'The number {input_number} , positive number entered .')\n",
    "elif input_number < 0:\n",
    "    print(f'The number {input_number} , negative number entered .')\n",
    "elif input_number == 0:\n",
    "    print(f'The number {input_number} , Zero entered.')\n",
    "else:\n",
    "    print(\"Wrong input...\")"
   ]
  },
  {
   "cell_type": "code",
   "execution_count": null,
   "metadata": {},
   "outputs": [],
   "source": []
  },
  {
   "cell_type": "markdown",
   "metadata": {},
   "source": [
    "## 3. Divisibility Check of two numbers"
   ]
  },
  {
   "cell_type": "markdown",
   "metadata": {},
   "source": [
    "#### Write a Python program to check whether a number is completely divisible by another number. Accept two integer values form the user\n",
    "##### Program Console Sample Output 1:\n",
    "###### Enter numerator: 4\n",
    "###### Enter Denominator: 2\n",
    "##### Number 4 is Completely divisible by 2\n",
    "###### Program Console Sample Output 2:\n",
    "##### Enter numerator: 7\n",
    "\n",
    "##### Enter Denominator: 4\n",
    "###### Number 7 is not Completely divisible by 4"
   ]
  },
  {
   "cell_type": "code",
   "execution_count": 13,
   "metadata": {},
   "outputs": [
    {
     "name": "stdout",
     "output_type": "stream",
     "text": [
      "Input Numenator = 7\n",
      "Input Denomenator = 4\n",
      "Number 7 is not completely divisible by 4 .\n"
     ]
    }
   ],
   "source": [
    "input_Numenator = int(input(\"Input Numenator = \"))\n",
    "input_Denomenator = int(input(\"Input Denomenator = \"))\n",
    "if input_Numenator % input_Denomenator == 0:\n",
    "    print(f\"Number {input_Numenator} is completely divisible by {input_Denomenator} .\")\n",
    "else:\n",
    "    print(f\"Number {input_Numenator} is not completely divisible by {input_Denomenator} .\")"
   ]
  },
  {
   "cell_type": "code",
   "execution_count": 14,
   "metadata": {},
   "outputs": [
    {
     "name": "stdout",
     "output_type": "stream",
     "text": [
      "Input Numenator = 4\n",
      "Input Denomenator = 2\n",
      "Number 4 is completely divisible by 2 .\n"
     ]
    }
   ],
   "source": [
    "input_Numenator = int(input(\"Input Numenator = \"))\n",
    "input_Denomenator = int(input(\"Input Denomenator = \"))\n",
    "if input_Numenator % input_Denomenator == 0:\n",
    "    print(f\"Number {input_Numenator} is completely divisible by {input_Denomenator} .\")\n",
    "else:\n",
    "    print(f\"Number {input_Numenator} is not completely divisible by {input_Denomenator} .\")"
   ]
  },
  {
   "cell_type": "code",
   "execution_count": null,
   "metadata": {},
   "outputs": [],
   "source": [
    "                     \n"
   ]
  },
  {
   "cell_type": "code",
   "execution_count": null,
   "metadata": {},
   "outputs": [],
   "source": []
  },
  {
   "cell_type": "code",
   "execution_count": null,
   "metadata": {},
   "outputs": [],
   "source": []
  },
  {
   "cell_type": "code",
   "execution_count": null,
   "metadata": {},
   "outputs": [],
   "source": []
  },
  {
   "cell_type": "markdown",
   "metadata": {},
   "source": [
    "## 4. Calculate Volume of a sphere"
   ]
  },
  {
   "cell_type": "markdown",
   "metadata": {},
   "source": [
    "##### Write a Python program to get the volume of a sphere, please take the radius as input from user"
   ]
  },
  {
   "cell_type": "markdown",
   "metadata": {},
   "source": [
    "##### Program Console Output:\n",
    "##### Enter Radius of Sphere: 1\n",
    "###### Volume of the Sphere with Radius 1 is 4.18"
   ]
  },
  {
   "cell_type": "code",
   "execution_count": 5,
   "metadata": {},
   "outputs": [
    {
     "name": "stdout",
     "output_type": "stream",
     "text": [
      "Enter Radius of Sphere :1\n",
      "Volume of sphere with Radius 1 is 4.1887902047863905\n"
     ]
    }
   ],
   "source": [
    "import math\n",
    "radius = int(input(\"Enter Radius of Sphere :\"))\n",
    "volume = 4/3 * math.pi * radius**3\n",
    "print(f\"Volume of sphere with Radius {radius} is {volume}\")"
   ]
  },
  {
   "cell_type": "code",
   "execution_count": null,
   "metadata": {},
   "outputs": [],
   "source": []
  },
  {
   "cell_type": "code",
   "execution_count": null,
   "metadata": {},
   "outputs": [],
   "source": []
  },
  {
   "cell_type": "markdown",
   "metadata": {},
   "source": [
    "## 5. Copy string n times\n",
    "#### Write a Python program to get a string which is n (non-negative integer) copies of a given string.\n",
    "##### Program Console Output:\n",
    "##### Enter String: Hi\n",
    "###### How many copies of String you need: 4\n",
    "###### 4 Copies of Hi are HiHiHiHi"
   ]
  },
  {
   "cell_type": "code",
   "execution_count": 2,
   "metadata": {
    "scrolled": true
   },
   "outputs": [
    {
     "name": "stdout",
     "output_type": "stream",
     "text": [
      "Enter stringHi\n",
      "How many copies of string you need4\n",
      "4 copies of Hi are HiHiHiHi\n"
     ]
    }
   ],
   "source": [
    "input_string = input(\"Enter string\")\n",
    "copy_string = int(input(\"How many copies of string you need\"))\n",
    "final_string = copy_string * input_string\n",
    "print(f\"{copy_string} copies of {input_string} are {final_string}\")"
   ]
  },
  {
   "cell_type": "code",
   "execution_count": null,
   "metadata": {},
   "outputs": [],
   "source": []
  },
  {
   "cell_type": "code",
   "execution_count": null,
   "metadata": {},
   "outputs": [],
   "source": []
  },
  {
   "cell_type": "code",
   "execution_count": null,
   "metadata": {},
   "outputs": [],
   "source": []
  },
  {
   "cell_type": "code",
   "execution_count": null,
   "metadata": {},
   "outputs": [],
   "source": []
  },
  {
   "cell_type": "markdown",
   "metadata": {},
   "source": [
    "## 6. Check if number is Even or Odd\n",
    "### Write a Python program to find whether a given number (accept from the user) is even or odd, print out an appropriate message to the user\n",
    "#### Program Console Output 1:\n",
    "##### Enter Number: 4\n",
    "###### 4 is Even\n",
    "#### Program Console Output 2:\n",
    "##### Enter Number: 9\n",
    "###### 9 is Odd"
   ]
  },
  {
   "cell_type": "code",
   "execution_count": 5,
   "metadata": {},
   "outputs": [
    {
     "name": "stdout",
     "output_type": "stream",
     "text": [
      "Enter Number =4\n",
      " 4 is Even Number\n"
     ]
    }
   ],
   "source": [
    "input_number = int(input(\"Enter Number =\"))\n",
    "if input_number % 2 ==0:\n",
    "    print(f\" {input_number} is Even Number\")\n",
    "else:\n",
    "    print(f\" {input_number} is not Even Number\")"
   ]
  },
  {
   "cell_type": "code",
   "execution_count": 6,
   "metadata": {},
   "outputs": [
    {
     "name": "stdout",
     "output_type": "stream",
     "text": [
      "Enter Number =9\n",
      " 9 is Odd Number\n"
     ]
    }
   ],
   "source": [
    "input_number = int(input(\"Enter Number =\"))\n",
    "if input_number % 2 ==0:\n",
    "    print(f\" {input_number} is Even Number\")\n",
    "else:\n",
    "    print(f\" {input_number} is Odd Number\")"
   ]
  },
  {
   "cell_type": "code",
   "execution_count": null,
   "metadata": {},
   "outputs": [],
   "source": []
  },
  {
   "cell_type": "code",
   "execution_count": null,
   "metadata": {},
   "outputs": [],
   "source": []
  },
  {
   "cell_type": "code",
   "execution_count": null,
   "metadata": {},
   "outputs": [],
   "source": []
  },
  {
   "cell_type": "markdown",
   "metadata": {},
   "source": [
    "## 7. Vowel Tester\n",
    "### Write a Python program to test whether a passed letter is a vowel or not\n",
    "#### Program Console Output 1:\n",
    "##### Enter a character: A\n",
    "###### Letter A is Vowel\n",
    "#### Program Console Output 2:\n",
    "##### Enter a character: e\n",
    "###### Letter e is Vowel\n",
    "#### Program Console Output 2:\n",
    "##### Enter a character: N\n",
    "###### Letter N is not Vowel"
   ]
  },
  {
   "cell_type": "code",
   "execution_count": 11,
   "metadata": {},
   "outputs": [
    {
     "name": "stdout",
     "output_type": "stream",
     "text": [
      "Enter a character:A\n",
      "Letter A is vowel\n"
     ]
    }
   ],
   "source": [
    "input_alphabet = str(input(\"Enter a character:\"))\n",
    "if input_alphabet.upper() == 'A' or input_alphabet.upper() == 'E' or input_alphabet.upper() == 'I' or input_alphabet.upper() == 'O' or input_alphabet.upper() == 'U' :\n",
    "    print(f\"Letter {input_alphabet} is vowel\")\n",
    "else:\n",
    "    print(f\"Letter {input_alphabet} is not vowel\")"
   ]
  },
  {
   "cell_type": "code",
   "execution_count": 12,
   "metadata": {},
   "outputs": [
    {
     "name": "stdout",
     "output_type": "stream",
     "text": [
      "Enter a character:e\n",
      "Letter e is vowel\n"
     ]
    }
   ],
   "source": [
    "input_alphabet = str(input(\"Enter a character:\"))\n",
    "if input_alphabet.lower() == 'a' or input_alphabet.lower() == 'e' or input_alphabet.lower() == 'i' or input_alphabet.lower() == 'o' or input_alphabet.lower() == 'u' :\n",
    "    print(f\"Letter {input_alphabet} is vowel\")\n",
    "else:\n",
    "    print(f\"Letter {input_alphabet} is not vowel\")"
   ]
  },
  {
   "cell_type": "code",
   "execution_count": 13,
   "metadata": {},
   "outputs": [
    {
     "name": "stdout",
     "output_type": "stream",
     "text": [
      "Enter a character:N\n",
      "Letter N is not vowel\n"
     ]
    }
   ],
   "source": [
    "input_alphabet = str(input(\"Enter a character:\"))\n",
    "if input_alphabet.upper() == 'A' or input_alphabet.upper() == 'E' or input_alphabet.upper() == 'I' or input_alphabet.upper() == 'O' or input_alphabet.upper() == 'U' :\n",
    "    print(f\"Letter {input_alphabet} is vowel\")\n",
    "else:\n",
    "    print(f\"Letter {input_alphabet} is not vowel\")"
   ]
  },
  {
   "cell_type": "code",
   "execution_count": null,
   "metadata": {},
   "outputs": [],
   "source": [
    "\n"
   ]
  },
  {
   "cell_type": "code",
   "execution_count": null,
   "metadata": {},
   "outputs": [],
   "source": []
  },
  {
   "cell_type": "markdown",
   "metadata": {},
   "source": [
    "## 8. Triangle area\n",
    "### Write a Python program that will accept the base and height of a triangle and compute the area\n",
    "###### Reference:\n",
    "https://www.mathgoodies.com/lessons/vol1/area_triangle"
   ]
  },
  {
   "cell_type": "code",
   "execution_count": 16,
   "metadata": {},
   "outputs": [
    {
     "name": "stdout",
     "output_type": "stream",
     "text": [
      "Enter value of base = 12\n",
      "Enter value of height = 24\n",
      "Area of triangle of base 12 and height 24 is 144.0 cm^2\n"
     ]
    }
   ],
   "source": [
    "#formula; area of triangle = 1/2 *  base * height\n",
    "input_base = int(input(\"Enter value of base = \"))\n",
    "input_height = int(input(\"Enter value of height = \"))\n",
    "area_of_triangle = (1/2) * input_base * input_height\n",
    "print(f\"Area of triangle of base {input_base} and height {input_height} is {area_of_triangle} cm^2\")"
   ]
  },
  {
   "cell_type": "code",
   "execution_count": null,
   "metadata": {},
   "outputs": [],
   "source": []
  },
  {
   "cell_type": "code",
   "execution_count": null,
   "metadata": {},
   "outputs": [],
   "source": []
  },
  {
   "cell_type": "code",
   "execution_count": null,
   "metadata": {},
   "outputs": [],
   "source": []
  },
  {
   "cell_type": "markdown",
   "metadata": {},
   "source": [
    "## 9. Calculate Interest\n",
    "### Write a Python program to compute the future value of a specified principal amount, rate of interest, and a number of years\n",
    "#### Program Console Sample 1:\n",
    "##### Please enter principal amount: 10000\n",
    "###### Please Enter Rate of interest in %: 0.1\n",
    "###### Enter number of years for investment: 5\n",
    "###### After 5 years your principal amount 10000 over an interest rate of 0.1 % will be 16105.1"
   ]
  },
  {
   "cell_type": "code",
   "execution_count": 22,
   "metadata": {},
   "outputs": [
    {
     "name": "stdout",
     "output_type": "stream",
     "text": [
      "Please enter principal amount :10000\n",
      "Please enter rate of interest in % :0.1\n",
      "Enter number of years for investment : 5\n",
      "After 5 years your principal amount 10000 over an interest rate 0.1 % will be 10.0\n"
     ]
    }
   ],
   "source": [
    "#formula of calculating interest A= P(1+rt)\n",
    "# A= Total amount\n",
    "# P= Total principal amount\n",
    "# r= r/100; rate of interest per year\n",
    "# R= r * 100 ; rate of interest per year in percent\n",
    "# t= involved time period (month or year)\n",
    "\n",
    "principal_amount = int(input(\"Please enter principal amount :\"))\n",
    "rate_of_interest = float(input(\"Please enter rate of interest in % :\"))\n",
    "time_period = int(input(\"Enter number of years for investment : \"))\n",
    "\n",
    "rate = 0.1 * 100\n",
    "interest_rate= principal_amount * (1 + ((10/100)) ** time_period)\n",
    "print(f\"After {time_period} years your principal amount {principal_amount} over an interest rate {rate_of_interest} % will be {rate}\")\n"
   ]
  },
  {
   "cell_type": "code",
   "execution_count": null,
   "metadata": {},
   "outputs": [],
   "source": []
  },
  {
   "cell_type": "code",
   "execution_count": null,
   "metadata": {},
   "outputs": [],
   "source": []
  },
  {
   "cell_type": "code",
   "execution_count": null,
   "metadata": {},
   "outputs": [],
   "source": []
  },
  {
   "cell_type": "code",
   "execution_count": null,
   "metadata": {},
   "outputs": [],
   "source": []
  },
  {
   "cell_type": "code",
   "execution_count": null,
   "metadata": {},
   "outputs": [],
   "source": []
  },
  {
   "cell_type": "markdown",
   "metadata": {},
   "source": [
    "## 10. Euclidean distance\n",
    "### write a Python program to compute the distance between the points (x1, y1) and (x2, y2).\n",
    "#### Program Console Sample 1:\n",
    "###### Enter Co-ordinate for x1: 2\n",
    "###### Enter Co-ordinate for x2: 4\n",
    "###### Enter Co-ordinate for y1: 4\n",
    "###### Enter Co-ordinate for y2: 4\n",
    "###### Distance between points (2, 4) and (4, 4) is 2"
   ]
  },
  {
   "cell_type": "markdown",
   "metadata": {},
   "source": [
    "###### Reference:\n",
    "https://en.wikipedia.org/wiki/Euclidean_distance"
   ]
  },
  {
   "cell_type": "code",
   "execution_count": 26,
   "metadata": {},
   "outputs": [
    {
     "name": "stdout",
     "output_type": "stream",
     "text": [
      "Enter co-ordinate of x1 :2\n",
      "Enter co-ordinate of x2 :4\n",
      "Enter co-ordinate of y1 :4\n",
      "enter co-ordinate of y2 :4\n",
      "Distance between points (2 , 4) and (4 , 4) is 2.0\n"
     ]
    }
   ],
   "source": [
    "import math\n",
    "x1 = int(input(\"Enter co-ordinate of x1 :\"))\n",
    "x2 = int(input(\"Enter co-ordinate of x2 :\"))\n",
    "y1 = int(input(\"Enter co-ordinate of y1 :\"))\n",
    "y2 = int(input(\"enter co-ordinate of y2 :\"))\n",
    "\n",
    "x = (x2 - x1)**2\n",
    "y = (y2 - y1)**2\n",
    "z = (x - y)\n",
    "\n",
    "distance = math.sqrt(z)\n",
    "print(f\"Distance between points ({x1} , {x2}) and ({y1} , {y2}) is {distance}\")"
   ]
  },
  {
   "cell_type": "code",
   "execution_count": null,
   "metadata": {},
   "outputs": [],
   "source": []
  },
  {
   "cell_type": "code",
   "execution_count": null,
   "metadata": {},
   "outputs": [],
   "source": []
  },
  {
   "cell_type": "code",
   "execution_count": null,
   "metadata": {},
   "outputs": [],
   "source": []
  },
  {
   "cell_type": "markdown",
   "metadata": {},
   "source": [
    "## 11. Feet to Centimeter Converter\n",
    "### Write a Python program to convert height in feet to centimetres.\n",
    "##### Program Console Sample 1:\n",
    "###### Enter Height in Feet: 5\n",
    "###### There are 152.4 Cm in 5 ft\n",
    "###### Reference:\n",
    "https://www.rapidtables.com/convert/length/feet-to-cm.html"
   ]
  },
  {
   "cell_type": "code",
   "execution_count": 28,
   "metadata": {},
   "outputs": [
    {
     "name": "stdout",
     "output_type": "stream",
     "text": [
      "Enter Height in feet :5\n",
      "There are 152.4 cm in 5 ft\n"
     ]
    }
   ],
   "source": [
    "# 1 feet = 30.48 cm\n",
    "height_in_feet = int(input(\"Enter Height in feet :\"))\n",
    "height_in_centimeters = height_in_feet * 30.48 #formula\n",
    "print(f\"There are {height_in_centimeters} cm in {height_in_feet} ft\")"
   ]
  },
  {
   "cell_type": "code",
   "execution_count": null,
   "metadata": {},
   "outputs": [],
   "source": []
  },
  {
   "cell_type": "code",
   "execution_count": null,
   "metadata": {},
   "outputs": [],
   "source": []
  },
  {
   "cell_type": "code",
   "execution_count": null,
   "metadata": {},
   "outputs": [],
   "source": []
  },
  {
   "cell_type": "markdown",
   "metadata": {},
   "source": [
    "## 12. BMI Calculator\n",
    "### Write a Python program to calculate body mass index\n",
    "##### Program Console Sample 1:\n",
    "###### Enter Height in Cm: 180\n",
    "###### Enter Weight in Kg: 75\n",
    "###### Your BMI is 23.15"
   ]
  },
  {
   "cell_type": "code",
   "execution_count": 30,
   "metadata": {},
   "outputs": [
    {
     "name": "stdout",
     "output_type": "stream",
     "text": [
      "Enter height in cm =180\n",
      "enter weught in kgs =75\n",
      "Your BMI is 23.15\n"
     ]
    }
   ],
   "source": [
    "height = int(input(\"Enter height in cm =\")) \n",
    "weight = int(input(\"enter weught in kgs =\"))\n",
    "#bmi = 703 * weight / height**2\n",
    "bmi = (weight / (math.pow(height * 0.01,2)))\n",
    "bmi =round(bmi,2)\n",
    "print(f\"Your BMI is {bmi}\")"
   ]
  },
  {
   "cell_type": "code",
   "execution_count": null,
   "metadata": {},
   "outputs": [],
   "source": []
  },
  {
   "cell_type": "code",
   "execution_count": null,
   "metadata": {},
   "outputs": [],
   "source": []
  },
  {
   "cell_type": "markdown",
   "metadata": {},
   "source": [
    "## 13. Sum of n Positive Integers\n",
    "### Write a python program to sum of the first n positive integers\n",
    "#### Program Console Sample 1:\n",
    "###### Enter value of n: 5\n",
    "###### Sum of n Positive integers till 5 is 15"
   ]
  },
  {
   "cell_type": "code",
   "execution_count": 1,
   "metadata": {},
   "outputs": [
    {
     "name": "stdout",
     "output_type": "stream",
     "text": [
      "Enter value of n :5\n",
      "Sum of n positive integer till 5 is 15.0\n"
     ]
    }
   ],
   "source": [
    "n = int(input(\"Enter value of n :\"))\n",
    "total = n * (n+1) / 2\n",
    "print(f\"Sum of n positive integer till {n} is {total}\")"
   ]
  },
  {
   "cell_type": "code",
   "execution_count": null,
   "metadata": {},
   "outputs": [],
   "source": []
  },
  {
   "cell_type": "code",
   "execution_count": null,
   "metadata": {},
   "outputs": [],
   "source": []
  },
  {
   "cell_type": "markdown",
   "metadata": {},
   "source": [
    "## 14. Digits Sum of a Number\n",
    "### Write a Python program to calculate the sum of the digits in an integer\n",
    "#### Program Console Sample 1:\n",
    "##### Enter a number: 15\n",
    "###### Sum of 1 + 5 is 6\n",
    "#### Program Console Sample 2:\n",
    "##### Enter a number: 1234\n",
    "###### Sum of 1 + 2 + 3 + 4 is 10"
   ]
  },
  {
   "cell_type": "code",
   "execution_count": 2,
   "metadata": {},
   "outputs": [
    {
     "name": "stdout",
     "output_type": "stream",
     "text": [
      "Enter a number :15\n",
      "Sum of 15 is 6\n"
     ]
    }
   ],
   "source": [
    "num = input(\"Enter a number :\")\n",
    "sum = 0\n",
    "for digit in num:\n",
    "    sum = sum + int(digit)\n",
    "print(f\"Sum of {num} is {sum}\") "
   ]
  },
  {
   "cell_type": "code",
   "execution_count": 3,
   "metadata": {},
   "outputs": [
    {
     "name": "stdout",
     "output_type": "stream",
     "text": [
      "Enter a number1234\n",
      "Sum of 1234 is : 10\n"
     ]
    }
   ],
   "source": [
    "num = input(\"Enter a number\")\n",
    "sum = 0\n",
    "for digit in num:\n",
    "    sum = sum + int(digit)\n",
    "print(f\"Sum of {num} is : {sum}\")"
   ]
  },
  {
   "cell_type": "code",
   "execution_count": null,
   "metadata": {},
   "outputs": [],
   "source": []
  }
 ],
 "metadata": {
  "kernelspec": {
   "display_name": "Python 3",
   "language": "python",
   "name": "python3"
  },
  "language_info": {
   "codemirror_mode": {
    "name": "ipython",
    "version": 3
   },
   "file_extension": ".py",
   "mimetype": "text/x-python",
   "name": "python",
   "nbconvert_exporter": "python",
   "pygments_lexer": "ipython3",
   "version": "3.6.4"
  }
 },
 "nbformat": 4,
 "nbformat_minor": 2
}
