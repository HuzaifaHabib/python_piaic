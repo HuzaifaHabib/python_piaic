{
 "cells": [
  {
   "cell_type": "markdown",
   "metadata": {},
   "source": [
    "## 1. Calculate Area of a Circle"
   ]
  },
  {
   "cell_type": "markdown",
   "metadata": {},
   "source": [
    "#### Write a Python program which accepts the radius of a circle from the user and compute the area.\n",
    "###### Program Console Sample Output 1:\n",
    "###### Input Radius: 0.5\n",
    "###### Area of Circle with radius 0.5 is 0.7853981634"
   ]
  },
  {
   "cell_type": "code",
   "execution_count": 1,
   "metadata": {},
   "outputs": [
    {
     "name": "stdout",
     "output_type": "stream",
     "text": [
      "please put value of radius0.5\n",
      "area of circle with 0.5 radius is 0.7853981633974483\n"
     ]
    }
   ],
   "source": [
    "import math\n",
    "math.pi\n",
    "r=float(input(\"please put value of radius\"))\n",
    "area =(math.pi*r*r)\n",
    "print(\"area of circle with 0.5 radius is\", area)"
   ]
  },
  {
   "cell_type": "markdown",
   "metadata": {},
   "source": [
    "## 2. Check Number either positive, negative or zero"
   ]
  },
  {
   "cell_type": "markdown",
   "metadata": {},
   "source": [
    "#### Write a Python program to check if a number is positive, negative or zero\n",
    "###### Program Console Sample Output 1:\n",
    "###### Enter Number: -1\n",
    "##### Negative Number Entered\n",
    "###### Program Console Sample Output 2:\n",
    "##### Integer: 3\n",
    "##### Positive Number Entered\n",
    "###### Program Console Sample Output 3:\n",
    "##### Integer: 0\n",
    "###### Zero Entered"
   ]
  },
  {
   "cell_type": "code",
   "execution_count": 3,
   "metadata": {},
   "outputs": [
    {
     "name": "stdout",
     "output_type": "stream",
     "text": [
      "enter number-1\n",
      "negative number -1\n"
     ]
    }
   ],
   "source": [
    "number=int(input(\"enter number\"))\n",
    "if number > 0:\n",
    "    print(\"positive number\",number)\n",
    "elif number == 0:\n",
    "    print(\"number is zero\")\n",
    "else:\n",
    "    print(\"negative number\", number)\n",
    "\n"
   ]
  },
  {
   "cell_type": "code",
   "execution_count": 4,
   "metadata": {},
   "outputs": [
    {
     "name": "stdout",
     "output_type": "stream",
     "text": [
      "enter number3\n",
      "positive number 3\n"
     ]
    }
   ],
   "source": [
    "number=int(input(\"enter number\"))\n",
    "if number > 0:\n",
    "    print(\"positive number\",number)\n",
    "elif number == 0:\n",
    "    print(\"number is zero\")\n",
    "else:\n",
    "    print(\"negative number\", number)\n"
   ]
  },
  {
   "cell_type": "code",
   "execution_count": 5,
   "metadata": {},
   "outputs": [
    {
     "name": "stdout",
     "output_type": "stream",
     "text": [
      "enter number0\n",
      "number is zero\n"
     ]
    }
   ],
   "source": [
    "number=int(input(\"enter number\"))\n",
    "if number > 0:\n",
    "    print(\"positive number\",number)\n",
    "elif number == 0:\n",
    "    print(\"number is zero\")\n",
    "else:\n",
    "    print(\"negative number\", number)\n"
   ]
  },
  {
   "cell_type": "markdown",
   "metadata": {},
   "source": [
    "## 3. Divisibility Check of two numbers"
   ]
  },
  {
   "cell_type": "markdown",
   "metadata": {},
   "source": [
    "#### Write a Python program to check whether a number is completely divisible by another number. Accept two integer values form the user\n",
    "##### Program Console Sample Output 1:\n",
    "###### Enter numerator: 4\n",
    "###### Enter Denominator: 2\n",
    "##### Number 4 is Completely divisible by 2\n",
    "###### Program Console Sample Output 2:\n",
    "##### Enter numerator: 7\n",
    "\n",
    "##### Enter Denominator: 4\n",
    "###### Number 7 is not Completely divisible by 4"
   ]
  },
  {
   "cell_type": "code",
   "execution_count": 4,
   "metadata": {},
   "outputs": [
    {
     "name": "stdout",
     "output_type": "stream",
     "text": [
      "put nominator4\n",
      "put dominator2\n",
      "number 4 is completely divisible by 2\n"
     ]
    }
   ],
   "source": [
    "n=int(input(\"put nominator\"))\n",
    "d=int(input(\"put dominator\"))\n",
    "if (n%d)==0:\n",
    "    print(f'number {n} is completely divisible by {d}')\n",
    "else:\n",
    "    print(f'number {n} is not completely divisible by {d}')\n"
   ]
  },
  {
   "cell_type": "code",
   "execution_count": 5,
   "metadata": {},
   "outputs": [
    {
     "name": "stdout",
     "output_type": "stream",
     "text": [
      "put nominator7\n",
      "put dominator4\n",
      "number 7 is not completely divisible by 4\n"
     ]
    }
   ],
   "source": [
    "n=int(input(\"put nominator\"))\n",
    "d=int(input(\"put dominator\"))\n",
    "if (n%d)==0:\n",
    "    print(f'number {n} is completely divisible by {d}')\n",
    "else:\n",
    "    print(f'number {n} is not completely divisible by {d}')"
   ]
  },
  {
   "cell_type": "markdown",
   "metadata": {},
   "source": [
    "## 4. Calculate Volume of a sphere"
   ]
  },
  {
   "cell_type": "markdown",
   "metadata": {},
   "source": [
    "##### Write a Python program to get the volume of a sphere, please take the radius as input from user"
   ]
  },
  {
   "cell_type": "markdown",
   "metadata": {},
   "source": [
    "##### Program Console Output:\n",
    "##### Enter Radius of Sphere: 1\n",
    "###### Volume of the Sphere with Radius 1 is 4.18"
   ]
  },
  {
   "cell_type": "code",
   "execution_count": 17,
   "metadata": {},
   "outputs": [
    {
     "name": "stdout",
     "output_type": "stream",
     "text": [
      "please put radius1\n",
      "volume of sphere with radius 1 is 4.1887902047863905\n"
     ]
    }
   ],
   "source": [
    "import math\n",
    "math.pi\n",
    "r=int(input(\"please put radius\"))\n",
    "v=4/3*math.pi*r**3\n",
    "print(\"volume of sphere with radius 1 is\", v)"
   ]
  },
  {
   "cell_type": "markdown",
   "metadata": {},
   "source": [
    "## 5. Copy string n times\n",
    "#### Write a Python program to get a string which is n (non-negative integer) copies of a given string.\n",
    "##### Program Console Output:\n",
    "##### Enter String: Hi\n",
    "###### How many copies of String you need: 4\n",
    "###### 4 Copies of Hi are HiHiHiHi"
   ]
  },
  {
   "cell_type": "code",
   "execution_count": 7,
   "metadata": {},
   "outputs": [
    {
     "name": "stdout",
     "output_type": "stream",
     "text": [
      "Enter String: Hi\n",
      "How many copies of String you need: 4\n",
      "4 Copies of Hi are HiHiHiHi"
     ]
    }
   ],
   "source": [
    "string = str(input('Enter String: '))\n",
    "copies = int(input('How many copies of String you need: '))\n",
    "print(f'{copies} Copies of {string} are ',end= '')\n",
    "for copy in range(copies):\n",
    "    print(string,end= '')\n",
    "\n"
   ]
  },
  {
   "cell_type": "markdown",
   "metadata": {},
   "source": [
    "## 6. Check if number is Even or Odd\n",
    "### Write a Python program to find whether a given number (accept from the user) is even or odd, print out an appropriate message to the user\n",
    "#### Program Console Output 1:\n",
    "##### Enter Number: 4\n",
    "###### 4 is Even\n",
    "#### Program Console Output 2:\n",
    "##### Enter Number: 9\n",
    "###### 9 is Odd"
   ]
  },
  {
   "cell_type": "code",
   "execution_count": 9,
   "metadata": {},
   "outputs": [
    {
     "name": "stdout",
     "output_type": "stream",
     "text": [
      "put number4\n",
      "4 is even\n"
     ]
    }
   ],
   "source": [
    "num=int(input(\"put number\"))\n",
    "if (num%2)==0:\n",
    "    print(f'{num} is even')\n",
    "else:\n",
    "    print(f'{num} is odd')"
   ]
  },
  {
   "cell_type": "code",
   "execution_count": 10,
   "metadata": {},
   "outputs": [
    {
     "name": "stdout",
     "output_type": "stream",
     "text": [
      "put number9\n",
      "9 is odd\n"
     ]
    }
   ],
   "source": [
    "num=int(input(\"put number\"))\n",
    "if (num%2)==0:\n",
    "    print(f'{num} is even')\n",
    "else:\n",
    "    print(f'{num} is odd')"
   ]
  },
  {
   "cell_type": "markdown",
   "metadata": {},
   "source": [
    "## 7. Vowel Tester\n",
    "### Write a Python program to test whether a passed letter is a vowel or not\n",
    "#### Program Console Output 1:\n",
    "##### Enter a character: A\n",
    "###### Letter A is Vowel\n",
    "#### Program Console Output 2:\n",
    "##### Enter a character: e\n",
    "###### Letter e is Vowel\n",
    "#### Program Console Output 2:\n",
    "##### Enter a character: N\n",
    "###### Letter N is not Vowel"
   ]
  },
  {
   "cell_type": "code",
   "execution_count": 20,
   "metadata": {},
   "outputs": [
    {
     "name": "stdout",
     "output_type": "stream",
     "text": [
      "Enter a character: A\n",
      "Letter A is Vowel\n"
     ]
    }
   ],
   "source": [
    "vowel = {'a', 'e', 'i', 'o', 'u'}\n",
    "letter = str(input('Enter a character: '))\n",
    "if letter.lower() in vowel:\n",
    "    print(f'Letter {letter} is Vowel')\n",
    "else:\n",
    "    print(f'Letter {letter} is not Vowel')"
   ]
  },
  {
   "cell_type": "code",
   "execution_count": 21,
   "metadata": {},
   "outputs": [
    {
     "name": "stdout",
     "output_type": "stream",
     "text": [
      "Enter a character: e\n",
      "Letter e is Vowel\n"
     ]
    }
   ],
   "source": [
    "vowel = {'a', 'e', 'i', 'o', 'u'}\n",
    "letter = str(input('Enter a character: '))\n",
    "if letter.lower() in vowel:\n",
    "    print(f'Letter {letter} is Vowel')\n",
    "else:\n",
    "    print(f'Letter {letter} is not Vowel')"
   ]
  },
  {
   "cell_type": "code",
   "execution_count": 22,
   "metadata": {},
   "outputs": [
    {
     "name": "stdout",
     "output_type": "stream",
     "text": [
      "Enter a character: N\n",
      "Letter N is not Vowel\n"
     ]
    }
   ],
   "source": [
    "vowel = {'a', 'e', 'i', 'o', 'u'}\n",
    "letter = str(input('Enter a character: '))\n",
    "if letter.lower() in vowel:\n",
    "    print(f'Letter {letter} is Vowel')\n",
    "else:\n",
    "    print(f'Letter {letter} is not Vowel')"
   ]
  },
  {
   "cell_type": "markdown",
   "metadata": {},
   "source": [
    "## 8. Triangle area\n",
    "### Write a Python program that will accept the base and height of a triangle and compute the area\n",
    "###### Reference:\n",
    "https://www.mathgoodies.com/lessons/vol1/area_triangle"
   ]
  },
  {
   "cell_type": "code",
   "execution_count": 28,
   "metadata": {},
   "outputs": [
    {
     "name": "stdout",
     "output_type": "stream",
     "text": [
      "put height4\n",
      "put base3\n",
      "Area of a Triange with height 4 and base 3 is 6.0\n"
     ]
    }
   ],
   "source": [
    "height=int(input(\"put height\"))\n",
    "base=int(input(\"put base\"))\n",
    "area=(height*base)/2\n",
    "print(f'Area of a Triange with height {height} and base {base} is {area}')"
   ]
  },
  {
   "cell_type": "markdown",
   "metadata": {},
   "source": [
    "## 9. Calculate Interest\n",
    "### Write a Python program to compute the future value of a specified principal amount, rate of interest, and a number of years\n",
    "#### Program Console Sample 1:\n",
    "##### Please enter principal amount: 10000\n",
    "###### Please Enter Rate of interest in %: 0.1\n",
    "###### Enter number of years for investment: 5\n",
    "###### After 5 years your principal amount 10000 over an interest rate of 0.1 % will be 16105.1"
   ]
  },
  {
   "cell_type": "code",
   "execution_count": 43,
   "metadata": {},
   "outputs": [
    {
     "name": "stdout",
     "output_type": "stream",
     "text": [
      "please put amount10000\n",
      "please put interest in %0.1\n",
      "please put years5\n",
      "after 5 years your principal amount 10000 over an interest rate 0.1% will be 16105.100000000006\n"
     ]
    }
   ],
   "source": [
    "p=int(input(\"please put amount\"))\n",
    "r=float(input(\"please put interest in %\"))\n",
    "t=int(input(\"please put years\"))\n",
    "i=p*((1+r))**(t)\n",
    "print(f'after {t} years your principal amount {p} over an interest rate {r}% will be {i}')\n"
   ]
  },
  {
   "cell_type": "markdown",
   "metadata": {},
   "source": [
    "## 10. Euclidean distance\n",
    "### write a Python program to compute the distance between the points (x1, y1) and (x2, y2).\n",
    "#### Program Console Sample 1:\n",
    "###### Enter Co-ordinate for x1: 2\n",
    "###### Enter Co-ordinate for x2: 4\n",
    "###### Enter Co-ordinate for y1: 4\n",
    "###### Enter Co-ordinate for y2: 4\n",
    "###### Distance between points (2, 4) and (4, 4) is 2"
   ]
  },
  {
   "cell_type": "markdown",
   "metadata": {},
   "source": [
    "###### Reference:\n",
    "https://en.wikipedia.org/wiki/Euclidean_distance"
   ]
  },
  {
   "cell_type": "code",
   "execution_count": 54,
   "metadata": {},
   "outputs": [
    {
     "name": "stdout",
     "output_type": "stream",
     "text": [
      "put value2\n",
      "put value4\n",
      "put value4\n",
      "put value4\n",
      "Distance between points (2,4) and (4,4) is 2.0\n"
     ]
    }
   ],
   "source": [
    "import math\n",
    "x1=int(input(\"put value\"))\n",
    "x2=int(input(\"put value\"))\n",
    "y1=int(input(\"put value\"))\n",
    "y2=int(input(\"put value\"))\n",
    "d= math.sqrt(((x2-x1)**2 )-((y2-y1)**2))\n",
    "print(f'Distance between points ({x1},{y1}) and ({x2},{y2}) is {d}')"
   ]
  },
  {
   "cell_type": "markdown",
   "metadata": {},
   "source": [
    "## 11. Feet to Centimeter Converter\n",
    "### Write a Python program to convert height in feet to centimetres.\n",
    "##### Program Console Sample 1:\n",
    "###### Enter Height in Feet: 5\n",
    "###### There are 152.4 Cm in 5 ft\n",
    "###### Reference:\n",
    "https://www.rapidtables.com/convert/length/feet-to-cm.html"
   ]
  },
  {
   "cell_type": "code",
   "execution_count": 55,
   "metadata": {},
   "outputs": [
    {
     "name": "stdout",
     "output_type": "stream",
     "text": [
      "put height infeet5\n",
      "There are 152.4Cm in 5ft\n"
     ]
    }
   ],
   "source": [
    "feet=int(input(\"put height infeet\"))\n",
    "cm=(feet*30.48)\n",
    "print(f\"There are {cm}Cm in {feet}ft\")"
   ]
  },
  {
   "cell_type": "markdown",
   "metadata": {},
   "source": [
    "## 12. BMI Calculator\n",
    "### Write a Python program to calculate body mass index\n",
    "##### Program Console Sample 1:\n",
    "###### Enter Height in Cm: 180\n",
    "###### Enter Weight in Kg: 75\n",
    "###### Your BMI is 23.15"
   ]
  },
  {
   "cell_type": "code",
   "execution_count": 56,
   "metadata": {},
   "outputs": [
    {
     "name": "stdout",
     "output_type": "stream",
     "text": [
      "Enter Height in Cm: 180\n",
      "Enter Weight in Kg: 75\n",
      "Your BMI is 23.15\n"
     ]
    }
   ],
   "source": [
    "cm = int(input('Enter Height in Cm: '))\n",
    "kg = int(input('Enter Weight in Kg: '))\n",
    "\n",
    "meter = cm/100\n",
    "BMI = kg/(meter**2)\n",
    "BMI = round(BMI, 2)\n",
    "print(f'Your BMI is {BMI}')"
   ]
  },
  {
   "cell_type": "markdown",
   "metadata": {},
   "source": [
    "## 13. Sum of n Positive Integers\n",
    "### Write a python program to sum of the first n positive integers\n",
    "#### Program Console Sample 1:\n",
    "###### Enter value of n: 5\n",
    "###### Sum of n Positive integers till 5 is 15"
   ]
  },
  {
   "cell_type": "code",
   "execution_count": 1,
   "metadata": {},
   "outputs": [
    {
     "name": "stdout",
     "output_type": "stream",
     "text": [
      "put number: 5\n",
      "sum of positive integers till 5 is 15.0\n"
     ]
    }
   ],
   "source": [
    "n=int(input(\"put number: \"))\n",
    "sum=(n * (n + 1)) / 2\n",
    "print(f'sum of positive integers till {n} is {sum}')"
   ]
  },
  {
   "cell_type": "markdown",
   "metadata": {},
   "source": [
    "## 14. Digits Sum of a Number\n",
    "### Write a Python program to calculate the sum of the digits in an integer\n",
    "#### Program Console Sample 1:\n",
    "##### Enter a number: 15\n",
    "###### Sum of 1 + 5 is 6\n",
    "#### Program Console Sample 2:\n",
    "##### Enter a number: 1234\n",
    "###### Sum of 1 + 2 + 3 + 4 is 10"
   ]
  },
  {
   "cell_type": "code",
   "execution_count": 2,
   "metadata": {},
   "outputs": [
    {
     "name": "stdout",
     "output_type": "stream",
     "text": [
      "Enter a nummber: 15\n",
      "Sum of 1 + 5 is 6\n"
     ]
    }
   ],
   "source": [
    "nums = str(input('Enter a nummber: '))\n",
    "number = []\n",
    "Sum = 0\n",
    "val = 0\n",
    "string = nums\n",
    "for num in nums:\n",
    "    number.append(int(num))\n",
    "    val +=1\n",
    "    \n",
    "string = string.replace('', ' + ',val)\n",
    "string = string.replace(' + ','',1)\n",
    "\n",
    "for num in number:\n",
    "    Sum = Sum + num\n",
    "print(f'Sum of {string} is {Sum}')"
   ]
  },
  {
   "cell_type": "code",
   "execution_count": 1,
   "metadata": {},
   "outputs": [
    {
     "name": "stdout",
     "output_type": "stream",
     "text": [
      "Enter a nummber: 13578\n",
      "Sum of 1 + 3 + 5 + 7 + 8 is 24\n"
     ]
    }
   ],
   "source": [
    "nums = str(input('Enter a nummber: '))\n",
    "number = []\n",
    "Sum = 0\n",
    "val = 0\n",
    "string = nums\n",
    "for num in nums:\n",
    "    number.append(int(num))\n",
    "    val +=1\n",
    "    \n",
    "string = string.replace('', ' + ',val)\n",
    "string = string.replace(' + ','',1)\n",
    "\n",
    "for num in number:\n",
    "    Sum = Sum + num\n",
    "print(f'Sum of {string} is {Sum}')"
   ]
  },
  {
   "cell_type": "code",
   "execution_count": null,
   "metadata": {},
   "outputs": [],
   "source": []
  }
 ],
 "metadata": {
  "kernelspec": {
   "display_name": "Python 3",
   "language": "python",
   "name": "python3"
  },
  "language_info": {
   "codemirror_mode": {
    "name": "ipython",
    "version": 3
   },
   "file_extension": ".py",
   "mimetype": "text/x-python",
   "name": "python",
   "nbconvert_exporter": "python",
   "pygments_lexer": "ipython3",
   "version": "3.6.4"
  }
 },
 "nbformat": 4,
 "nbformat_minor": 2
}
