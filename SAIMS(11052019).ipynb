{
 "cells": [
  {
   "cell_type": "markdown",
   "metadata": {},
   "source": [
    "# Our First Class"
   ]
  },
  {
   "cell_type": "markdown",
   "metadata": {},
   "source": [
    "This is our first class and today is 5th day of Ramadan."
   ]
  },
  {
   "cell_type": "code",
   "execution_count": 7,
   "metadata": {},
   "outputs": [
    {
     "name": "stdout",
     "output_type": "stream",
     "text": [
      "123\n"
     ]
    }
   ],
   "source": [
    "print(123) #Integer"
   ]
  },
  {
   "cell_type": "code",
   "execution_count": 8,
   "metadata": {},
   "outputs": [
    {
     "name": "stdout",
     "output_type": "stream",
     "text": [
      "Hello PIAIC\n"
     ]
    }
   ],
   "source": [
    "print('Hello PIAIC') #String"
   ]
  },
  {
   "cell_type": "code",
   "execution_count": 9,
   "metadata": {},
   "outputs": [
    {
     "name": "stdout",
     "output_type": "stream",
     "text": [
      "Hello PIAIC\n"
     ]
    }
   ],
   "source": [
    "print(\"Hello PIAIC\") #String"
   ]
  },
  {
   "cell_type": "code",
   "execution_count": 12,
   "metadata": {},
   "outputs": [
    {
     "name": "stdout",
     "output_type": "stream",
     "text": [
      "12.3\n"
     ]
    }
   ],
   "source": [
    "print(12.3) #Float"
   ]
  },
  {
   "cell_type": "code",
   "execution_count": 14,
   "metadata": {},
   "outputs": [
    {
     "name": "stdout",
     "output_type": "stream",
     "text": [
      "123 Hello False 12.3\n"
     ]
    }
   ],
   "source": [
    "print(123, 'Hello', \"False\", 12.3)"
   ]
  },
  {
   "cell_type": "code",
   "execution_count": 15,
   "metadata": {},
   "outputs": [
    {
     "name": "stdout",
     "output_type": "stream",
     "text": [
      "False\n"
     ]
    }
   ],
   "source": [
    "print(False) #Bool"
   ]
  },
  {
   "cell_type": "code",
   "execution_count": 20,
   "metadata": {},
   "outputs": [
    {
     "name": "stdout",
     "output_type": "stream",
     "text": [
      "123 IAmASeperator Hello IAmASeperator False IAmASeperator 12.3\n"
     ]
    }
   ],
   "source": [
    "print(123, 'Hello', \"False\", 12.3, sep = \" IAmASeperator \")"
   ]
  },
  {
   "cell_type": "code",
   "execution_count": 23,
   "metadata": {},
   "outputs": [
    {
     "name": "stdout",
     "output_type": "stream",
     "text": [
      "Hello World\tHello Python\tHello PIAIC\n"
     ]
    }
   ],
   "source": [
    "print('Hello World', end= '\\t') # \\t = tab\n",
    "print('Hello Python', end = '\\t')\n",
    "print('Hello PIAIC')"
   ]
  },
  {
   "cell_type": "markdown",
   "metadata": {},
   "source": [
    "How many escape characters in Python?"
   ]
  },
  {
   "cell_type": "code",
   "execution_count": 24,
   "metadata": {},
   "outputs": [],
   "source": [
    "name = \"asad\""
   ]
  },
  {
   "cell_type": "code",
   "execution_count": 25,
   "metadata": {},
   "outputs": [
    {
     "data": {
      "text/plain": [
       "140274504492456"
      ]
     },
     "execution_count": 25,
     "metadata": {},
     "output_type": "execute_result"
    }
   ],
   "source": [
    "id(name)"
   ]
  },
  {
   "cell_type": "code",
   "execution_count": 26,
   "metadata": {},
   "outputs": [],
   "source": [
    "name = \"Nasir\""
   ]
  },
  {
   "cell_type": "code",
   "execution_count": 27,
   "metadata": {},
   "outputs": [
    {
     "data": {
      "text/plain": [
       "140274394736936"
      ]
     },
     "execution_count": 27,
     "metadata": {},
     "output_type": "execute_result"
    }
   ],
   "source": [
    "id(name)"
   ]
  },
  {
   "cell_type": "code",
   "execution_count": 28,
   "metadata": {},
   "outputs": [
    {
     "ename": "SyntaxError",
     "evalue": "can't assign to literal (<ipython-input-28-e7c031a58946>, line 1)",
     "output_type": "error",
     "traceback": [
      "\u001b[0;36m  File \u001b[0;32m\"<ipython-input-28-e7c031a58946>\"\u001b[0;36m, line \u001b[0;32m1\u001b[0m\n\u001b[0;31m    1234 = \"ALi\"\u001b[0m\n\u001b[0m                ^\u001b[0m\n\u001b[0;31mSyntaxError\u001b[0m\u001b[0;31m:\u001b[0m can't assign to literal\n"
     ]
    }
   ],
   "source": [
    "1234 = \"ALi\""
   ]
  },
  {
   "cell_type": "code",
   "execution_count": 29,
   "metadata": {},
   "outputs": [
    {
     "ename": "SyntaxError",
     "evalue": "invalid syntax (<ipython-input-29-e5896f37c537>, line 1)",
     "output_type": "error",
     "traceback": [
      "\u001b[0;36m  File \u001b[0;32m\"<ipython-input-29-e5896f37c537>\"\u001b[0;36m, line \u001b[0;32m1\u001b[0m\n\u001b[0;31m    1name = 'Ali'\u001b[0m\n\u001b[0m        ^\u001b[0m\n\u001b[0;31mSyntaxError\u001b[0m\u001b[0;31m:\u001b[0m invalid syntax\n"
     ]
    }
   ],
   "source": [
    "1name = 'Ali'"
   ]
  },
  {
   "cell_type": "code",
   "execution_count": 30,
   "metadata": {},
   "outputs": [],
   "source": [
    "na1me = 'Hussain'"
   ]
  },
  {
   "cell_type": "code",
   "execution_count": 31,
   "metadata": {},
   "outputs": [
    {
     "ename": "SyntaxError",
     "evalue": "invalid syntax (<ipython-input-31-f08e6ce87dc0>, line 1)",
     "output_type": "error",
     "traceback": [
      "\u001b[0;36m  File \u001b[0;32m\"<ipython-input-31-f08e6ce87dc0>\"\u001b[0;36m, line \u001b[0;32m1\u001b[0m\n\u001b[0;31m    $name = 'asad'\u001b[0m\n\u001b[0m    ^\u001b[0m\n\u001b[0;31mSyntaxError\u001b[0m\u001b[0;31m:\u001b[0m invalid syntax\n"
     ]
    }
   ],
   "source": [
    "$name = 'asad'"
   ]
  },
  {
   "cell_type": "code",
   "execution_count": 32,
   "metadata": {},
   "outputs": [
    {
     "ename": "SyntaxError",
     "evalue": "starred assignment target must be in a list or tuple (cell_name, line 4)",
     "output_type": "error",
     "traceback": [
      "\u001b[0;36m  File \u001b[0;32m\"cell_name\"\u001b[0;36m, line \u001b[0;32m4\u001b[0m\n\u001b[0;31mSyntaxError\u001b[0m\u001b[0;31m:\u001b[0m starred assignment target must be in a list or tuple\n"
     ]
    }
   ],
   "source": [
    "*name = 'asad'"
   ]
  },
  {
   "cell_type": "code",
   "execution_count": 33,
   "metadata": {},
   "outputs": [],
   "source": [
    "_name = 'asad'"
   ]
  },
  {
   "cell_type": "code",
   "execution_count": 34,
   "metadata": {},
   "outputs": [],
   "source": [
    "_ = 'test'"
   ]
  },
  {
   "cell_type": "code",
   "execution_count": 35,
   "metadata": {},
   "outputs": [
    {
     "ename": "SyntaxError",
     "evalue": "can't assign to operator (<ipython-input-35-26a85bf200c8>, line 1)",
     "output_type": "error",
     "traceback": [
      "\u001b[0;36m  File \u001b[0;32m\"<ipython-input-35-26a85bf200c8>\"\u001b[0;36m, line \u001b[0;32m1\u001b[0m\n\u001b[0;31m    -name = 'asad'\u001b[0m\n\u001b[0m                  ^\u001b[0m\n\u001b[0;31mSyntaxError\u001b[0m\u001b[0;31m:\u001b[0m can't assign to operator\n"
     ]
    }
   ],
   "source": [
    "-name = 'asad'"
   ]
  },
  {
   "cell_type": "code",
   "execution_count": 36,
   "metadata": {},
   "outputs": [
    {
     "ename": "SyntaxError",
     "evalue": "invalid syntax (<ipython-input-36-9e40de3fa1cb>, line 1)",
     "output_type": "error",
     "traceback": [
      "\u001b[0;36m  File \u001b[0;32m\"<ipython-input-36-9e40de3fa1cb>\"\u001b[0;36m, line \u001b[0;32m1\u001b[0m\n\u001b[0;31m    if = 'asad'\u001b[0m\n\u001b[0m       ^\u001b[0m\n\u001b[0;31mSyntaxError\u001b[0m\u001b[0;31m:\u001b[0m invalid syntax\n"
     ]
    }
   ],
   "source": [
    "if = 'asad'"
   ]
  },
  {
   "cell_type": "code",
   "execution_count": 37,
   "metadata": {},
   "outputs": [
    {
     "ename": "SyntaxError",
     "evalue": "invalid syntax (<ipython-input-37-61d1811c9aec>, line 1)",
     "output_type": "error",
     "traceback": [
      "\u001b[0;36m  File \u001b[0;32m\"<ipython-input-37-61d1811c9aec>\"\u001b[0;36m, line \u001b[0;32m1\u001b[0m\n\u001b[0;31m    na me = 'asad'\u001b[0m\n\u001b[0m        ^\u001b[0m\n\u001b[0;31mSyntaxError\u001b[0m\u001b[0;31m:\u001b[0m invalid syntax\n"
     ]
    }
   ],
   "source": [
    "na me = 'asad'"
   ]
  },
  {
   "cell_type": "code",
   "execution_count": 38,
   "metadata": {},
   "outputs": [],
   "source": [
    "x = 1234"
   ]
  },
  {
   "cell_type": "code",
   "execution_count": 39,
   "metadata": {},
   "outputs": [
    {
     "data": {
      "text/plain": [
       "1236"
      ]
     },
     "execution_count": 39,
     "metadata": {},
     "output_type": "execute_result"
    }
   ],
   "source": [
    "x + 2"
   ]
  },
  {
   "cell_type": "code",
   "execution_count": 40,
   "metadata": {},
   "outputs": [
    {
     "data": {
      "text/plain": [
       "1234"
      ]
     },
     "execution_count": 40,
     "metadata": {},
     "output_type": "execute_result"
    }
   ],
   "source": [
    "x"
   ]
  },
  {
   "cell_type": "code",
   "execution_count": 41,
   "metadata": {},
   "outputs": [],
   "source": [
    "x = x + 2"
   ]
  },
  {
   "cell_type": "code",
   "execution_count": 42,
   "metadata": {},
   "outputs": [
    {
     "name": "stdout",
     "output_type": "stream",
     "text": [
      "1236\n"
     ]
    }
   ],
   "source": [
    "print(x)"
   ]
  },
  {
   "cell_type": "markdown",
   "metadata": {},
   "source": [
    "# Concatenation"
   ]
  },
  {
   "cell_type": "code",
   "execution_count": 43,
   "metadata": {},
   "outputs": [
    {
     "ename": "TypeError",
     "evalue": "unsupported operand type(s) for +: 'int' and 'str'",
     "output_type": "error",
     "traceback": [
      "\u001b[0;31m-----------------------------------------------------------------------\u001b[0m",
      "\u001b[0;31mTypeError\u001b[0m                             Traceback (most recent call last)",
      "\u001b[0;32m<ipython-input-43-382a8a598b4b>\u001b[0m in \u001b[0;36m<module>\u001b[0;34m\u001b[0m\n\u001b[1;32m      1\u001b[0m \u001b[0mx\u001b[0m \u001b[0;34m=\u001b[0m \u001b[0;36m2\u001b[0m\u001b[0;34m\u001b[0m\u001b[0;34m\u001b[0m\u001b[0m\n\u001b[1;32m      2\u001b[0m \u001b[0my\u001b[0m \u001b[0;34m=\u001b[0m \u001b[0;34m'2'\u001b[0m\u001b[0;34m\u001b[0m\u001b[0;34m\u001b[0m\u001b[0m\n\u001b[0;32m----> 3\u001b[0;31m \u001b[0mz\u001b[0m \u001b[0;34m=\u001b[0m \u001b[0mx\u001b[0m \u001b[0;34m+\u001b[0m \u001b[0my\u001b[0m\u001b[0;34m\u001b[0m\u001b[0;34m\u001b[0m\u001b[0m\n\u001b[0m",
      "\u001b[0;31mTypeError\u001b[0m: unsupported operand type(s) for +: 'int' and 'str'"
     ]
    }
   ],
   "source": [
    "x = 2\n",
    "y = '2'\n",
    "z = x + y"
   ]
  },
  {
   "cell_type": "code",
   "execution_count": 44,
   "metadata": {},
   "outputs": [],
   "source": [
    "z = str(x) + y"
   ]
  },
  {
   "cell_type": "code",
   "execution_count": 45,
   "metadata": {},
   "outputs": [
    {
     "name": "stdout",
     "output_type": "stream",
     "text": [
      "22\n"
     ]
    }
   ],
   "source": [
    "print(z)"
   ]
  },
  {
   "cell_type": "code",
   "execution_count": 46,
   "metadata": {},
   "outputs": [],
   "source": [
    "z = x + int(y)"
   ]
  },
  {
   "cell_type": "code",
   "execution_count": 50,
   "metadata": {},
   "outputs": [
    {
     "name": "stdout",
     "output_type": "stream",
     "text": [
      "4\n",
      "Nasir\n"
     ]
    },
    {
     "data": {
      "text/plain": [
       "4"
      ]
     },
     "execution_count": 50,
     "metadata": {},
     "output_type": "execute_result"
    }
   ],
   "source": [
    "print(z)\n",
    "print(name)\n",
    "z"
   ]
  },
  {
   "cell_type": "code",
   "execution_count": 52,
   "metadata": {},
   "outputs": [
    {
     "name": "stdout",
     "output_type": "stream",
     "text": [
      "My name is shahzad and my age is 23\n"
     ]
    }
   ],
   "source": [
    "age = 23\n",
    "name = 'shahzad'\n",
    "print('My name is ' + name + ' and my age is ' + str(age))"
   ]
  },
  {
   "cell_type": "code",
   "execution_count": 55,
   "metadata": {},
   "outputs": [
    {
     "name": "stdout",
     "output_type": "stream",
     "text": [
      "What is your age? 25\n",
      "What is your name? Nasir\n",
      "My name is Nasir and my age is 25\n"
     ]
    }
   ],
   "source": [
    "age = input('What is your age? ')\n",
    "name = input('What is your name? ')\n",
    "print('My name is ' + name + ' and my age is ' + str(age))"
   ]
  },
  {
   "cell_type": "code",
   "execution_count": 56,
   "metadata": {},
   "outputs": [
    {
     "name": "stdout",
     "output_type": "stream",
     "text": [
      "What is your age? 26\n",
      "What is your name? Nasir\n",
      "My name is Nasir and my age is 26\n"
     ]
    }
   ],
   "source": [
    "age = input('What is your age? ')\n",
    "name = input('What is your name? ')\n",
    "print('My name is {} and my age is {}'.format(name, age)) # {}placeholder"
   ]
  },
  {
   "cell_type": "code",
   "execution_count": 58,
   "metadata": {},
   "outputs": [
    {
     "name": "stdout",
     "output_type": "stream",
     "text": [
      "What is your age? 26\n",
      "What is your name? Ali\n",
      "My name is Ali and my age is Ali\n"
     ]
    }
   ],
   "source": [
    "age = input('What is your age? ')\n",
    "name = input('What is your name? ')\n",
    "print('My name is {0} and my age is {1}'.format(name, age))"
   ]
  },
  {
   "cell_type": "code",
   "execution_count": 59,
   "metadata": {},
   "outputs": [
    {
     "name": "stdout",
     "output_type": "stream",
     "text": [
      "What is your age? 23\n",
      "What is your name? Shahzad\n",
      "My name is Shahzad and my age is 23\n"
     ]
    }
   ],
   "source": [
    "age = input('What is your age? ')\n",
    "name = input('What is your name? ')\n",
    "print(f'My name is {name} and my age is {age}')"
   ]
  },
  {
   "cell_type": "code",
   "execution_count": 1,
   "metadata": {},
   "outputs": [
    {
     "data": {
      "text/plain": [
       "1"
      ]
     },
     "execution_count": 1,
     "metadata": {},
     "output_type": "execute_result"
    }
   ],
   "source": [
    "4%3"
   ]
  },
  {
   "cell_type": "code",
   "execution_count": 2,
   "metadata": {},
   "outputs": [
    {
     "data": {
      "text/plain": [
       "1237"
      ]
     },
     "execution_count": 2,
     "metadata": {},
     "output_type": "execute_result"
    }
   ],
   "source": [
    "x=1234\n",
    "x+3"
   ]
  },
  {
   "cell_type": "code",
   "execution_count": 5,
   "metadata": {},
   "outputs": [],
   "source": [
    "x= 1234\n",
    "x=x+3\n",
    "\n"
   ]
  },
  {
   "cell_type": "code",
   "execution_count": 1,
   "metadata": {},
   "outputs": [],
   "source": [
    "a=1\n",
    "b=3"
   ]
  },
  {
   "cell_type": "code",
   "execution_count": 2,
   "metadata": {},
   "outputs": [
    {
     "data": {
      "text/plain": [
       "False"
      ]
     },
     "execution_count": 2,
     "metadata": {},
     "output_type": "execute_result"
    }
   ],
   "source": [
    "a==b"
   ]
  },
  {
   "cell_type": "code",
   "execution_count": 3,
   "metadata": {},
   "outputs": [
    {
     "ename": "NameError",
     "evalue": "name 'Huzaifa' is not defined",
     "output_type": "error",
     "traceback": [
      "\u001b[1;31m---------------------------------------------------------------------------\u001b[0m",
      "\u001b[1;31mNameError\u001b[0m                                 Traceback (most recent call last)",
      "\u001b[1;32m<ipython-input-3-798b42de951a>\u001b[0m in \u001b[0;36m<module>\u001b[1;34m()\u001b[0m\n\u001b[0;32m      1\u001b[0m \u001b[1;32mif\u001b[0m \u001b[0ma\u001b[0m\u001b[1;33m!=\u001b[0m\u001b[0mb\u001b[0m\u001b[1;33m:\u001b[0m\u001b[1;33m\u001b[0m\u001b[0m\n\u001b[1;32m----> 2\u001b[1;33m     \u001b[0mprint\u001b[0m \u001b[1;33m(\u001b[0m\u001b[0mHuzaifa\u001b[0m\u001b[1;33m)\u001b[0m\u001b[1;33m\u001b[0m\u001b[0m\n\u001b[0m",
      "\u001b[1;31mNameError\u001b[0m: name 'Huzaifa' is not defined"
     ]
    }
   ],
   "source": [
    "if a!=b:\n",
    "    print (Huzaifa)"
   ]
  },
  {
   "cell_type": "code",
   "execution_count": 4,
   "metadata": {},
   "outputs": [
    {
     "name": "stdout",
     "output_type": "stream",
     "text": [
      "Huzaifa\n"
     ]
    }
   ],
   "source": [
    "if a!=b:\n",
    "    print (\"Huzaifa\")"
   ]
  },
  {
   "cell_type": "code",
   "execution_count": 5,
   "metadata": {},
   "outputs": [
    {
     "ename": "SyntaxError",
     "evalue": "unexpected EOF while parsing (<ipython-input-5-44cdb0d5425d>, line 1)",
     "output_type": "error",
     "traceback": [
      "\u001b[1;36m  File \u001b[1;32m\"<ipython-input-5-44cdb0d5425d>\"\u001b[1;36m, line \u001b[1;32m1\u001b[0m\n\u001b[1;33m    if a==b:\u001b[0m\n\u001b[1;37m            ^\u001b[0m\n\u001b[1;31mSyntaxError\u001b[0m\u001b[1;31m:\u001b[0m unexpected EOF while parsing\n"
     ]
    }
   ],
   "source": [
    "if a==b:"
   ]
  },
  {
   "cell_type": "code",
   "execution_count": 6,
   "metadata": {},
   "outputs": [
    {
     "ename": "SyntaxError",
     "evalue": "invalid syntax (<ipython-input-6-bad2265f6b32>, line 1)",
     "output_type": "error",
     "traceback": [
      "\u001b[1;36m  File \u001b[1;32m\"<ipython-input-6-bad2265f6b32>\"\u001b[1;36m, line \u001b[1;32m1\u001b[0m\n\u001b[1;33m    if ==b:\u001b[0m\n\u001b[1;37m        ^\u001b[0m\n\u001b[1;31mSyntaxError\u001b[0m\u001b[1;31m:\u001b[0m invalid syntax\n"
     ]
    }
   ],
   "source": [
    "if ==b:\n",
    "    print (\"A and B are Equal\")\n",
    "else:\n",
    "    (\"A and B are not equal\")"
   ]
  },
  {
   "cell_type": "code",
   "execution_count": 7,
   "metadata": {},
   "outputs": [],
   "source": [
    "if a==b:\n",
    "    print (\"A and B are Equal\")\n",
    "else:\n",
    "    (\"A and B are not equal\")"
   ]
  },
  {
   "cell_type": "code",
   "execution_count": 8,
   "metadata": {},
   "outputs": [
    {
     "ename": "SyntaxError",
     "evalue": "invalid syntax (<ipython-input-8-56ed7f053d00>, line 1)",
     "output_type": "error",
     "traceback": [
      "\u001b[1;36m  File \u001b[1;32m\"<ipython-input-8-56ed7f053d00>\"\u001b[1;36m, line \u001b[1;32m1\u001b[0m\n\u001b[1;33m    if ==b:\u001b[0m\n\u001b[1;37m        ^\u001b[0m\n\u001b[1;31mSyntaxError\u001b[0m\u001b[1;31m:\u001b[0m invalid syntax\n"
     ]
    }
   ],
   "source": [
    "if ==b:\n",
    "    print (\"A and B are Equal\")\n",
    "else:\n",
    "    print(\"A and B are not equal\")"
   ]
  },
  {
   "cell_type": "code",
   "execution_count": 9,
   "metadata": {},
   "outputs": [
    {
     "name": "stdout",
     "output_type": "stream",
     "text": [
      "A and B are not equal\n"
     ]
    }
   ],
   "source": [
    "if a==b:\n",
    "    print (\"A and B are Equal\")\n",
    "else:\n",
    "    print(\"A and B are not equal\")"
   ]
  },
  {
   "cell_type": "code",
   "execution_count": 10,
   "metadata": {},
   "outputs": [
    {
     "ename": "SyntaxError",
     "evalue": "invalid syntax (<ipython-input-10-102cbd84aef0>, line 3)",
     "output_type": "error",
     "traceback": [
      "\u001b[1;36m  File \u001b[1;32m\"<ipython-input-10-102cbd84aef0>\"\u001b[1;36m, line \u001b[1;32m3\u001b[0m\n\u001b[1;33m    if a!==b:\u001b[0m\n\u001b[1;37m          ^\u001b[0m\n\u001b[1;31mSyntaxError\u001b[0m\u001b[1;31m:\u001b[0m invalid syntax\n"
     ]
    }
   ],
   "source": [
    "    a= input(\"Enter First Digit \")\n",
    "    b= input(\"Enter second Digit\")\n",
    "if a!==b:\n",
    "    print (\"A and B are Equal\")\n",
    "else:\n",
    "    print(\"A and B are not equal\")"
   ]
  },
  {
   "cell_type": "code",
   "execution_count": 11,
   "metadata": {},
   "outputs": [
    {
     "ename": "IndentationError",
     "evalue": "expected an indented block (<ipython-input-11-7c478a60bcb6>, line 4)",
     "output_type": "error",
     "traceback": [
      "\u001b[1;36m  File \u001b[1;32m\"<ipython-input-11-7c478a60bcb6>\"\u001b[1;36m, line \u001b[1;32m4\u001b[0m\n\u001b[1;33m    print (\"A and B are Equal\")\u001b[0m\n\u001b[1;37m        ^\u001b[0m\n\u001b[1;31mIndentationError\u001b[0m\u001b[1;31m:\u001b[0m expected an indented block\n"
     ]
    }
   ],
   "source": [
    "    a= input(\"Enter First Digit \")\n",
    "    b= input(\"Enter second Digit\")\n",
    "if a!=b:\n",
    "    print (\"A and B are Equal\")\n",
    "else:\n",
    "    print(\"A and B are not equal\")"
   ]
  },
  {
   "cell_type": "code",
   "execution_count": 12,
   "metadata": {},
   "outputs": [
    {
     "ename": "IndentationError",
     "evalue": "expected an indented block (<ipython-input-12-160a31015c00>, line 4)",
     "output_type": "error",
     "traceback": [
      "\u001b[1;36m  File \u001b[1;32m\"<ipython-input-12-160a31015c00>\"\u001b[1;36m, line \u001b[1;32m4\u001b[0m\n\u001b[1;33m    print(\"A and B are Equal\")\u001b[0m\n\u001b[1;37m        ^\u001b[0m\n\u001b[1;31mIndentationError\u001b[0m\u001b[1;31m:\u001b[0m expected an indented block\n"
     ]
    }
   ],
   "source": [
    "    a= input(\"Enter First Digit \")\n",
    "    b= input(\"Enter second Digit\")\n",
    "if a!=b:\n",
    "    print(\"A and B are Equal\")\n",
    "else:\n",
    "    print(\"A and B are not equal\")"
   ]
  },
  {
   "cell_type": "code",
   "execution_count": 13,
   "metadata": {},
   "outputs": [
    {
     "ename": "SyntaxError",
     "evalue": "invalid syntax (<ipython-input-13-cb9c4b4dbd3e>, line 3)",
     "output_type": "error",
     "traceback": [
      "\u001b[1;36m  File \u001b[1;32m\"<ipython-input-13-cb9c4b4dbd3e>\"\u001b[1;36m, line \u001b[1;32m3\u001b[0m\n\u001b[1;33m    if a!==b:\u001b[0m\n\u001b[1;37m          ^\u001b[0m\n\u001b[1;31mSyntaxError\u001b[0m\u001b[1;31m:\u001b[0m invalid syntax\n"
     ]
    }
   ],
   "source": [
    "a= input(\"Enter First Digit \")\n",
    "b= input(\"Enter second Digit\")\n",
    "if a!==b:\n",
    "    print (\"A and B are Equal\")\n",
    "else:\n",
    "    print(\"A and B are not equal\")"
   ]
  },
  {
   "cell_type": "code",
   "execution_count": 14,
   "metadata": {},
   "outputs": [
    {
     "name": "stdout",
     "output_type": "stream",
     "text": [
      "Enter First Digit 2\n",
      "Enter second Digit\n",
      "A and B are Equal\n"
     ]
    }
   ],
   "source": [
    "a= input(\"Enter First Digit \")\n",
    "b= input(\"Enter second Digit\")\n",
    "if a==b:\n",
    "    print(\"A and B are Equal\")\n",
    "else:\n",
    "    print(\"A and B are not equal\")"
   ]
  },
  {
   "cell_type": "code",
   "execution_count": 15,
   "metadata": {},
   "outputs": [
    {
     "name": "stdout",
     "output_type": "stream",
     "text": [
      "Enter First Digit 1\n",
      "Enter second Digit2\n",
      "A and B are Equal\n"
     ]
    }
   ],
   "source": [
    "a= input(\"Enter First Digit \")\n",
    "b= input(\"Enter second Digit\")\n",
    "if a!=b:\n",
    "    print(\"A and B are Equal\")\n",
    "else:\n",
    "    print(\"A and B are not equal\")"
   ]
  },
  {
   "cell_type": "code",
   "execution_count": 16,
   "metadata": {},
   "outputs": [
    {
     "name": "stdout",
     "output_type": "stream",
     "text": [
      "Enter First Digit 2\n",
      "Enter second Digit3\n",
      "A and B are not equal\n"
     ]
    }
   ],
   "source": [
    "a= input(\"Enter First Digit \")\n",
    "b= input(\"Enter second Digit\")\n",
    "if a==b:\n",
    "    print(\"A and B are Equal\")\n",
    "else:\n",
    "    print(\"A and B are not equal\")"
   ]
  },
  {
   "cell_type": "code",
   "execution_count": 18,
   "metadata": {},
   "outputs": [
    {
     "name": "stdout",
     "output_type": "stream",
     "text": [
      "Enter First Digit 2\n",
      "Enter second Digit2\n",
      "A and B are Equal\n"
     ]
    }
   ],
   "source": [
    "a= input(\"Enter First Digit \")\n",
    "b= input(\"Enter second Digit\")\n",
    "if a==b:\n",
    "    print(\"A and B are Equal\")\n",
    "else:\n",
    "    print(\"A and B are not equal\")"
   ]
  },
  {
   "cell_type": "code",
   "execution_count": 19,
   "metadata": {},
   "outputs": [
    {
     "name": "stdout",
     "output_type": "stream",
     "text": [
      "Do you have valid CNICyes\n",
      "You are CNIC is valid\n",
      "Name in Voter list?yes\n",
      "You are in voter list\n",
      "Please cast your vote\n"
     ]
    }
   ],
   "source": [
    "vnic=input(\"Do you have valid CNIC\")\n",
    "if vnic==\"yes\":\n",
    "    print(\"You are CNIC is valid\")\n",
    "    vtlist=input(\"Name in Voter list?\")\n",
    "    if vtlist ==\"yes\":\n",
    "        print(\"You are in voter list\")\n",
    "        print(\"Please cast your vote\")\n",
    "    else:\n",
    "        print(\"You are not in voter list\")\n",
    "        print(\"You are not allowed to vote\")\n",
    "else:\n",
    "    print(\"You CNIC is invalid\")\n",
    "    print(\"You are not allowed to vote\")"
   ]
  },
  {
   "cell_type": "code",
   "execution_count": 20,
   "metadata": {},
   "outputs": [
    {
     "name": "stdout",
     "output_type": "stream",
     "text": [
      "Do you have valid CNICno\n",
      "You CNIC is invalid\n",
      "You are not allowed to vote\n"
     ]
    }
   ],
   "source": [
    "vnic=input(\"Do you have valid CNIC\").lower()\n",
    "if vnic==\"yes\":\n",
    "    print(\"You are CNIC is valid\")\n",
    "    vtlist=input(\"Name in Voter list?\").lower()\n",
    "    if vtlist ==\"yes\":\n",
    "        print(\"You are in voter list\")\n",
    "        print(\"Please cast your vote\")\n",
    "    else:\n",
    "        print(\"You are not in voter list\")\n",
    "        print(\"You are not allowed to vote\")\n",
    "else:\n",
    "    print(\"You CNIC is invalid\")\n",
    "    print(\"You are not allowed to vote\")\n",
    "    "
   ]
  },
  {
   "cell_type": "code",
   "execution_count": 21,
   "metadata": {},
   "outputs": [
    {
     "name": "stdout",
     "output_type": "stream",
     "text": [
      "Do you have valid CNICyes\n",
      "You are CNIC is valid\n",
      "Name in Voter list?yes\n",
      "You are in voter list\n",
      "Please cast your vote\n"
     ]
    }
   ],
   "source": [
    "vnic=input(\"Do you have valid CNIC\").lower()\n",
    "if vnic==\"yes\":\n",
    "    print(\"You are CNIC is valid\")\n",
    "    vtlist=input(\"Name in Voter list?\").lower()\n",
    "    if vtlist ==\"yes\":\n",
    "        print(\"You are in voter list\")\n",
    "        print(\"Please cast your vote\")\n",
    "    else:\n",
    "        print(\"You are not in voter list\")\n",
    "        print(\"You are not allowed to vote\")\n",
    "else:\n",
    "    print(\"You CNIC is invalid\")\n",
    "    print(\"You are not allowed to vote\")\n",
    "    "
   ]
  },
  {
   "cell_type": "code",
   "execution_count": null,
   "metadata": {},
   "outputs": [],
   "source": [
    "vnic=input(\"Do you have valid CNIC \").lower()\n",
    "if vnic==\"yes\":\n",
    "    print(\"You are CNIC is valid\")\n",
    "    vtlist=input(\" Name in Voter list?\").lower()\n",
    "    if vtlist ==\"yes\":\n",
    "        print(\"You are in voter list\")\n",
    "        print(\"Please cast your vote\")\n",
    "    else:\n",
    "        print(\"You are not in voter list\")\n",
    "        print(\"You are not allowed to vote\")\n",
    "else:\n",
    "    print(\"You CNIC is invalid\")\n",
    "    print(\"You are not allowed to vote\")"
   ]
  },
  {
   "cell_type": "code",
   "execution_count": null,
   "metadata": {},
   "outputs": [],
   "source": []
  },
  {
   "cell_type": "code",
   "execution_count": null,
   "metadata": {},
   "outputs": [],
   "source": [
    "vnic=input(\"Do you have valid CNIC \").lower()\n",
    "if vnic==\"yes\":\n",
    "    print(\"You are CNIC is valid\")\n",
    "    vtlist=input(\" Name in Voter list?\").lower()\n",
    "    if vtlist ==\"yes\":\n",
    "        print(\"You are in voter list\")\n",
    "        print(\"Please cast your vote\")\n",
    "    else:\n",
    "        print(\"You are not in voter list\")\n",
    "        print(\"You are not allowed to vote\")\n",
    "else:\n",
    "    print(\"You CNIC is invalid\")\n",
    "    print(\"You are not allowed to vote\")"
   ]
  },
  {
   "cell_type": "code",
   "execution_count": 1,
   "metadata": {},
   "outputs": [
    {
     "name": "stdout",
     "output_type": "stream",
     "text": [
      "Do you have valid CNIC Yes\n",
      "You are CNIC is valid\n",
      " Name in Voter list?Yes\n",
      "You are in voter list\n",
      "Please cast your vote\n"
     ]
    }
   ],
   "source": [
    "vnic=input(\"Do you have valid CNIC \").lower()\n",
    "if vnic==\"yes\":\n",
    "    print(\"You are CNIC is valid\")\n",
    "    vtlist=input(\" Name in Voter list?\").lower()\n",
    "    if vtlist ==\"yes\":\n",
    "        print(\"You are in voter list\")\n",
    "        print(\"Please cast your vote\")\n",
    "    else:\n",
    "        print(\"You are not in voter list\")\n",
    "        print(\"You are not allowed to vote\")\n",
    "else:\n",
    "    print(\"You CNIC is invalid\")\n",
    "    print(\"You are not allowed to vote\")"
   ]
  },
  {
   "cell_type": "code",
   "execution_count": 2,
   "metadata": {},
   "outputs": [
    {
     "ename": "SyntaxError",
     "evalue": "invalid syntax (<ipython-input-2-0fd0540469da>, line 4)",
     "output_type": "error",
     "traceback": [
      "\u001b[1;36m  File \u001b[1;32m\"<ipython-input-2-0fd0540469da>\"\u001b[1;36m, line \u001b[1;32m4\u001b[0m\n\u001b[1;33m    print(\"Please cast your vote\")ou are not allowed to vote\")\u001b[0m\n\u001b[1;37m                                   ^\u001b[0m\n\u001b[1;31mSyntaxError\u001b[0m\u001b[1;31m:\u001b[0m invalid syntax\n"
     ]
    }
   ],
   "source": [
    "vnic=input(\"Do you have valid CNIC \").lower()\n",
    "vnic=input(\"Do you have valid CNIC \").lower()\n",
    "if vtlist==\"yes\" and vnic==\"yes\":\n",
    "    print(\"Please cast your vote\")ou are not allowed to vote\")"
   ]
  },
  {
   "cell_type": "code",
   "execution_count": 4,
   "metadata": {},
   "outputs": [
    {
     "name": "stdout",
     "output_type": "stream",
     "text": [
      "Do you have valid CNIC No\n",
      "Do you have valid CNIC yes\n",
      "Please cast your vote\n"
     ]
    }
   ],
   "source": [
    "vnic=input(\"Do you have valid CNIC \").lower()\n",
    "vnic=input(\"Do you have valid CNIC \").lower()\n",
    "if vtlist==\"yes\" and vnic==\"yes\":\n",
    "    print(\"Please cast your vote\")\n",
    "else:\n",
    "    print(\"you are not allowed to vote\")"
   ]
  },
  {
   "cell_type": "code",
   "execution_count": 6,
   "metadata": {},
   "outputs": [
    {
     "name": "stdout",
     "output_type": "stream",
     "text": [
      "Do you have valid CNIC yes\n",
      "You are in voter list no\n",
      "you are not allowed to vote\n"
     ]
    }
   ],
   "source": [
    "vnic=input(\"Do you have valid CNIC \").lower()\n",
    "vtlist=input(\"You are in voter list \").lower()\n",
    "if vtlist==\"yes\" and vnic==\"yes\":\n",
    "    print(\"Please cast your vote\")\n",
    "else:\n",
    "    print(\"you are not allowed to vote\")"
   ]
  },
  {
   "cell_type": "code",
   "execution_count": 7,
   "metadata": {},
   "outputs": [
    {
     "name": "stdout",
     "output_type": "stream",
     "text": [
      "Enter first number1\n",
      "Enter socond number1\n"
     ]
    },
    {
     "ename": "NameError",
     "evalue": "name 'A' is not defined",
     "output_type": "error",
     "traceback": [
      "\u001b[1;31m---------------------------------------------------------------------------\u001b[0m",
      "\u001b[1;31mNameError\u001b[0m                                 Traceback (most recent call last)",
      "\u001b[1;32m<ipython-input-7-afa0f609cd03>\u001b[0m in \u001b[0;36m<module>\u001b[1;34m()\u001b[0m\n\u001b[0;32m      3\u001b[0m \u001b[1;33m\u001b[0m\u001b[0m\n\u001b[0;32m      4\u001b[0m \u001b[1;32mif\u001b[0m \u001b[0ma\u001b[0m\u001b[1;33m==\u001b[0m\u001b[0mb\u001b[0m\u001b[1;33m:\u001b[0m\u001b[1;33m\u001b[0m\u001b[0m\n\u001b[1;32m----> 5\u001b[1;33m     \u001b[0mprint\u001b[0m\u001b[1;33m(\u001b[0m\u001b[0mA\u001b[0m\u001b[1;33m+\u001b[0m\u001b[1;34m\" is equal to  \"\u001b[0m\u001b[1;33m+\u001b[0m\u001b[0mb\u001b[0m\u001b[1;33m)\u001b[0m\u001b[1;33m\u001b[0m\u001b[0m\n\u001b[0m\u001b[0;32m      6\u001b[0m \u001b[1;33m\u001b[0m\u001b[0m\n",
      "\u001b[1;31mNameError\u001b[0m: name 'A' is not defined"
     ]
    }
   ],
   "source": [
    "a = input(\"Enter first number\")\n",
    "b = input(\"Enter socond number\")\n",
    "\n",
    "if a==b:\n",
    "    print(A+\" is equal to  \"+b)\n",
    "    "
   ]
  },
  {
   "cell_type": "code",
   "execution_count": 13,
   "metadata": {},
   "outputs": [
    {
     "name": "stdout",
     "output_type": "stream",
     "text": [
      "Enter first number1\n",
      "Enter socond number2\n",
      "1 is not equal to  2\n"
     ]
    }
   ],
   "source": [
    "a = input(\"Enter first number\")\n",
    "b = input(\"Enter socond number\")\n",
    "\n",
    "if a==b:\n",
    "    print(a+\" is equal to  \"+b)\n",
    "elif a!=b:\n",
    "    print(a+\" is not equal to  \"+b)"
   ]
  },
  {
   "cell_type": "code",
   "execution_count": 3,
   "metadata": {},
   "outputs": [
    {
     "name": "stdout",
     "output_type": "stream",
     "text": [
      "Show car documents no\n",
      "Do you have money? no\n",
      "Gari band karo iski\n"
     ]
    },
    {
     "data": {
      "text/plain": [
       "'This is Ramadan second python class\\nwe are enjoying'"
      ]
     },
     "execution_count": 3,
     "metadata": {},
     "output_type": "execute_result"
    }
   ],
   "source": [
    "a = input(\"Show car documents \") # using or \n",
    "b = input(\"Do you have money? \")\n",
    "\n",
    "if a==\"yes\" or b==\"yes\":\n",
    "    print(\"You may go now\")\n",
    "else:\n",
    "    print(\"Gari band karo iski\")\n",
    "\n",
    "'''This is Ramadan second python class\n",
    "we are enjoying'''\n"
   ]
  },
  {
   "cell_type": "code",
   "execution_count": null,
   "metadata": {},
   "outputs": [],
   "source": []
  },
  {
   "cell_type": "code",
   "execution_count": null,
   "metadata": {},
   "outputs": [],
   "source": []
  },
  {
   "cell_type": "code",
   "execution_count": null,
   "metadata": {},
   "outputs": [],
   "source": []
  }
 ],
 "metadata": {
  "kernelspec": {
   "display_name": "Python 3",
   "language": "python",
   "name": "python3"
  },
  "language_info": {
   "codemirror_mode": {
    "name": "ipython",
    "version": 3
   },
   "file_extension": ".py",
   "mimetype": "text/x-python",
   "name": "python",
   "nbconvert_exporter": "python",
   "pygments_lexer": "ipython3",
   "version": "3.6.4"
  }
 },
 "nbformat": 4,
 "nbformat_minor": 2
}
